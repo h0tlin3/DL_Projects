{
 "cells": [
  {
   "cell_type": "code",
   "execution_count": 1,
   "metadata": {},
   "outputs": [],
   "source": [
    "import torch\n",
    "from torch import nn\n",
    "from torch import optim\n",
    "import torch.nn.functional as F\n",
    "from torchvision import datasets, transforms, models\n",
    "import numpy as np\n",
    "import matplotlib.pyplot as plt\n",
    "from sklearn.metrics import f1_score"
   ]
  },
  {
   "cell_type": "code",
   "execution_count": 2,
   "metadata": {},
   "outputs": [],
   "source": [
    "data_dir = \"/home/wubbalubba/DL/Datasets\"\n",
    "\n",
    "train_dir = data_dir + \"/train\"\n",
    "dev_dir = data_dir + \"/dev\"\n",
    "test_dir = data_dir + \"/test\""
   ]
  },
  {
   "cell_type": "code",
   "execution_count": 3,
   "metadata": {},
   "outputs": [],
   "source": [
    "train_transforms = transforms.Compose([\n",
    "    transforms.Resize(500),\n",
    "    transforms.RandomCrop(227),\n",
    "    transforms.ToTensor(),\n",
    "    transforms.Normalize([0.485,0.456,0.406],\n",
    "                         [0.229,0.224,0.225])\n",
    "])\n",
    "\n",
    "dev_transforms = transforms.Compose([\n",
    "    transforms.Resize(500),\n",
    "    transforms.CenterCrop(227),\n",
    "    transforms.ToTensor(),\n",
    "    transforms.Normalize([0.485,0.456,0.406],\n",
    "                         [0.229,0.224,0.225])\n",
    "])\n",
    "\n",
    "test_transforms = transforms.Compose([\n",
    "    transforms.Resize(500),\n",
    "    transforms.CenterCrop(227),\n",
    "    transforms.ToTensor(),\n",
    "    transforms.Normalize([0.485,0.456,0.406],\n",
    "                         [0.229,0.224,0.225])\n",
    "])\n",
    "\n",
    "check_transforms = transforms.Compose([\n",
    "    transforms.Resize(400),\n",
    "])"
   ]
  },
  {
   "cell_type": "code",
   "execution_count": 4,
   "metadata": {},
   "outputs": [],
   "source": [
    "train_ds = datasets.ImageFolder(train_dir,transform=train_transforms)\n",
    "\n",
    "#dev_ds = datasets.ImageFolder(dev_dir,transform=dev_transforms)\n",
    "\n",
    "test_ds = datasets.ImageFolder(test_dir,transform=test_transforms)\n",
    "\n",
    "check_ds = datasets.ImageFolder(test_dir, transform=check_transforms)"
   ]
  },
  {
   "cell_type": "code",
   "execution_count": 5,
   "metadata": {},
   "outputs": [],
   "source": [
    "def make_weights_for_balanced_classes(images, nclasses):                        \n",
    "    count = [0] * nclasses                                                      \n",
    "    for item in images:                                                         \n",
    "        count[item[1]] += 1                                                     \n",
    "    weight_per_class = [0.] * nclasses                                      \n",
    "    N = float(sum(count))                                                   \n",
    "    for i in range(nclasses):                                                   \n",
    "        weight_per_class[i] = N/float(count[i])                                 \n",
    "    weight = [0] * len(images)                                              \n",
    "    for idx, val in enumerate(images):                                          \n",
    "        weight[idx] = weight_per_class[val[1]]                                  \n",
    "    return weight  "
   ]
  },
  {
   "cell_type": "code",
   "execution_count": 6,
   "metadata": {},
   "outputs": [
    {
     "name": "stderr",
     "output_type": "stream",
     "text": [
      "/home/wubbalubba/anaconda3/lib/python3.6/site-packages/torch/utils/data/sampler.py:115: UserWarning: To copy construct from a tensor, it is recommended to use sourceTensor.clone().detach() or sourceTensor.clone().detach().requires_grad_(True), rather than torch.tensor(sourceTensor).\n",
      "  self.weights = torch.tensor(weights, dtype=torch.double)\n"
     ]
    }
   ],
   "source": [
    "weights = make_weights_for_balanced_classes(train_ds.imgs, len(train_ds.classes))                                                                \n",
    "weights = torch.DoubleTensor(weights)                                       \n",
    "sampler = torch.utils.data.sampler.WeightedRandomSampler(weights, len(weights))                     \n",
    "                                                                                \n",
    "train_dl = torch.utils.data.DataLoader(train_ds, batch_size=4, shuffle = False, sampler = sampler) "
   ]
  },
  {
   "cell_type": "code",
   "execution_count": 7,
   "metadata": {},
   "outputs": [],
   "source": [
    "from torch.utils.data import DataLoader"
   ]
  },
  {
   "cell_type": "code",
   "execution_count": 8,
   "metadata": {},
   "outputs": [],
   "source": [
    "train_dl = DataLoader(train_ds, batch_size = 4, shuffle = True)\n",
    "\n",
    "#dev_dl = DataLoader(dev_ds, batch_size = 2, shuffle = False)\n",
    "\n",
    "test_dl = DataLoader(test_ds, batch_size = 4, shuffle = False)\n",
    "\n",
    "check_dl = DataLoader(check_ds, batch_size = 1, shuffle = False)"
   ]
  },
  {
   "cell_type": "code",
   "execution_count": 9,
   "metadata": {},
   "outputs": [
    {
     "name": "stdout",
     "output_type": "stream",
     "text": [
      "X: torch.Size([1, 3, 227, 227]) \n",
      "y: torch.Size([1])\n"
     ]
    },
    {
     "data": {
      "text/plain": [
       "Dataset ImageFolder\n",
       "    Number of datapoints: 50\n",
       "    Root Location: /home/wubbalubba/DL/Datasets/train\n",
       "    Transforms (if any): Compose(\n",
       "                             Resize(size=500, interpolation=PIL.Image.BILINEAR)\n",
       "                             RandomCrop(size=(227, 227), padding=None)\n",
       "                             ToTensor()\n",
       "                             Normalize(mean=[0.485, 0.456, 0.406], std=[0.229, 0.224, 0.225])\n",
       "                         )\n",
       "    Target Transforms (if any): None"
      ]
     },
     "execution_count": 9,
     "metadata": {},
     "output_type": "execute_result"
    }
   ],
   "source": [
    "train_iter = iter(train_dl)\n",
    "X, y = next(train_iter)\n",
    "print(\"X: {} \\ny: {}\".format(X.shape,y.shape))\n",
    "train_dl.dataset"
   ]
  },
  {
   "cell_type": "code",
   "execution_count": 10,
   "metadata": {},
   "outputs": [],
   "source": [
    "N_epochs = 10"
   ]
  },
  {
   "cell_type": "code",
   "execution_count": 11,
   "metadata": {},
   "outputs": [],
   "source": [
    "model = models.alexnet(pretrained=True)"
   ]
  },
  {
   "cell_type": "code",
   "execution_count": 12,
   "metadata": {},
   "outputs": [
    {
     "data": {
      "text/plain": [
       "AlexNet(\n",
       "  (features): Sequential(\n",
       "    (0): Conv2d(3, 64, kernel_size=(11, 11), stride=(4, 4), padding=(2, 2))\n",
       "    (1): ReLU(inplace)\n",
       "    (2): MaxPool2d(kernel_size=3, stride=2, padding=0, dilation=1, ceil_mode=False)\n",
       "    (3): Conv2d(64, 192, kernel_size=(5, 5), stride=(1, 1), padding=(2, 2))\n",
       "    (4): ReLU(inplace)\n",
       "    (5): MaxPool2d(kernel_size=3, stride=2, padding=0, dilation=1, ceil_mode=False)\n",
       "    (6): Conv2d(192, 384, kernel_size=(3, 3), stride=(1, 1), padding=(1, 1))\n",
       "    (7): ReLU(inplace)\n",
       "    (8): Conv2d(384, 256, kernel_size=(3, 3), stride=(1, 1), padding=(1, 1))\n",
       "    (9): ReLU(inplace)\n",
       "    (10): Conv2d(256, 256, kernel_size=(3, 3), stride=(1, 1), padding=(1, 1))\n",
       "    (11): ReLU(inplace)\n",
       "    (12): MaxPool2d(kernel_size=3, stride=2, padding=0, dilation=1, ceil_mode=False)\n",
       "  )\n",
       "  (avgpool): AdaptiveAvgPool2d(output_size=(6, 6))\n",
       "  (classifier): Sequential(\n",
       "    (0): Dropout(p=0.5)\n",
       "    (1): Linear(in_features=9216, out_features=4096, bias=True)\n",
       "    (2): ReLU(inplace)\n",
       "    (3): Dropout(p=0.5)\n",
       "    (4): Linear(in_features=4096, out_features=4096, bias=True)\n",
       "    (5): ReLU(inplace)\n",
       "    (6): Linear(in_features=4096, out_features=1000, bias=True)\n",
       "  )\n",
       ")"
      ]
     },
     "execution_count": 12,
     "metadata": {},
     "output_type": "execute_result"
    }
   ],
   "source": [
    "model"
   ]
  },
  {
   "cell_type": "code",
   "execution_count": 13,
   "metadata": {},
   "outputs": [],
   "source": [
    "def all_frozen(model_params):\n",
    "    return all(not p.requires_grad for p in model_params)\n",
    "\n",
    "def all_trainable(model_params):\n",
    "    return all(p.requires_grad for p in model_params)\n",
    "\n",
    "def get_trainable(model_params):\n",
    "    return (p for p in model_params if p.requires_grad)\n",
    "\n",
    "def freeze_all(model_params):\n",
    "    for param in model_params:\n",
    "        param.requires_grad = False"
   ]
  },
  {
   "cell_type": "code",
   "execution_count": 14,
   "metadata": {},
   "outputs": [],
   "source": [
    "freeze_all(model.parameters())\n",
    "assert all_frozen(model.parameters())"
   ]
  },
  {
   "cell_type": "code",
   "execution_count": 15,
   "metadata": {},
   "outputs": [],
   "source": [
    "classifier = list(model.classifier.children())\n",
    "model.classifier = nn.Sequential(*classifier[:-1])\n",
    "model.classifier.add_module('6', nn.Linear(classifier[-1].in_features, out_features=2048))\n",
    "model.classifier.add_module('7', nn.Linear(2048, out_features=2))"
   ]
  },
  {
   "cell_type": "code",
   "execution_count": 16,
   "metadata": {},
   "outputs": [
    {
     "data": {
      "text/plain": [
       "AlexNet(\n",
       "  (features): Sequential(\n",
       "    (0): Conv2d(3, 64, kernel_size=(11, 11), stride=(4, 4), padding=(2, 2))\n",
       "    (1): ReLU(inplace)\n",
       "    (2): MaxPool2d(kernel_size=3, stride=2, padding=0, dilation=1, ceil_mode=False)\n",
       "    (3): Conv2d(64, 192, kernel_size=(5, 5), stride=(1, 1), padding=(2, 2))\n",
       "    (4): ReLU(inplace)\n",
       "    (5): MaxPool2d(kernel_size=3, stride=2, padding=0, dilation=1, ceil_mode=False)\n",
       "    (6): Conv2d(192, 384, kernel_size=(3, 3), stride=(1, 1), padding=(1, 1))\n",
       "    (7): ReLU(inplace)\n",
       "    (8): Conv2d(384, 256, kernel_size=(3, 3), stride=(1, 1), padding=(1, 1))\n",
       "    (9): ReLU(inplace)\n",
       "    (10): Conv2d(256, 256, kernel_size=(3, 3), stride=(1, 1), padding=(1, 1))\n",
       "    (11): ReLU(inplace)\n",
       "    (12): MaxPool2d(kernel_size=3, stride=2, padding=0, dilation=1, ceil_mode=False)\n",
       "  )\n",
       "  (avgpool): AdaptiveAvgPool2d(output_size=(6, 6))\n",
       "  (classifier): Sequential(\n",
       "    (0): Dropout(p=0.5)\n",
       "    (1): Linear(in_features=9216, out_features=4096, bias=True)\n",
       "    (2): ReLU(inplace)\n",
       "    (3): Dropout(p=0.5)\n",
       "    (4): Linear(in_features=4096, out_features=4096, bias=True)\n",
       "    (5): ReLU(inplace)\n",
       "    (6): Linear(in_features=4096, out_features=2048, bias=True)\n",
       "    (7): Linear(in_features=2048, out_features=2, bias=True)\n",
       "  )\n",
       ")"
      ]
     },
     "execution_count": 16,
     "metadata": {},
     "output_type": "execute_result"
    }
   ],
   "source": [
    "model"
   ]
  },
  {
   "cell_type": "code",
   "execution_count": 17,
   "metadata": {},
   "outputs": [],
   "source": [
    "criterion = nn.CrossEntropyLoss()"
   ]
  },
  {
   "cell_type": "code",
   "execution_count": 18,
   "metadata": {},
   "outputs": [],
   "source": [
    "optimizer = torch.optim.Adam(\n",
    "    get_trainable(model.parameters()),\n",
    "    lr=0.001,\n",
    "    # momentum=0.9,\n",
    ")"
   ]
  },
  {
   "cell_type": "code",
   "execution_count": 19,
   "metadata": {},
   "outputs": [
    {
     "name": "stdout",
     "output_type": "stream",
     "text": [
      "Epoch 1/25\n",
      "  Train Loss: 4.827928052693605\n",
      "  Train Acc:  0.78\n",
      "  Valid Loss: 0.33232290546099347\n",
      "  Valid Acc:  0.9\n",
      "Epoch 2/25\n",
      "  Train Loss: 0.7730217072367668\n",
      "  Train Acc:  0.9\n",
      "  Valid Loss: 1.1474213918050131\n",
      "  Valid Acc:  0.9\n",
      "Epoch 3/25\n",
      "  Train Loss: 0.7843486821651459\n",
      "  Train Acc:  0.88\n",
      "  Valid Loss: 0.006474322080612183\n",
      "  Valid Acc:  1.0\n",
      "Epoch 4/25\n",
      "  Train Loss: 0.13108807563781738\n",
      "  Train Acc:  0.98\n",
      "  Valid Loss: 0.17624467511971792\n",
      "  Valid Acc:  0.9666666666666667\n",
      "Epoch 5/25\n",
      "  Train Loss: 0.8928741073608398\n",
      "  Train Acc:  0.9\n",
      "  Valid Loss: 1.348931301633517\n",
      "  Valid Acc:  0.8333333333333334\n",
      "Epoch 6/25\n",
      "  Train Loss: 0.710661712884903\n",
      "  Train Acc:  0.92\n",
      "  Valid Loss: 0.11484323342641195\n",
      "  Valid Acc:  0.9666666666666667\n",
      "Epoch 7/25\n",
      "  Train Loss: 2.2708189344406127\n",
      "  Train Acc:  0.86\n",
      "  Valid Loss: 0.7471091032028199\n",
      "  Valid Acc:  0.9\n",
      "Epoch 8/25\n",
      "  Train Loss: 4.098529422283173\n",
      "  Train Acc:  0.86\n",
      "  Valid Loss: 0.00010259151458740235\n",
      "  Valid Acc:  1.0\n",
      "Epoch 9/25\n",
      "  Train Loss: 0.6670800745487213\n",
      "  Train Acc:  0.94\n",
      "  Valid Loss: 0.5212364355723064\n",
      "  Valid Acc:  0.9333333333333333\n",
      "Epoch 10/25\n",
      "  Train Loss: 1.7785918194055557\n",
      "  Train Acc:  0.94\n",
      "  Valid Loss: 1.2147203922271728\n",
      "  Valid Acc:  0.8333333333333334\n",
      "Epoch 11/25\n",
      "  Train Loss: 1.1467841708660125\n",
      "  Train Acc:  0.94\n",
      "  Valid Loss: 0.00011928081512451172\n",
      "  Valid Acc:  1.0\n",
      "Epoch 12/25\n",
      "  Train Loss: 0.30416588306427\n",
      "  Train Acc:  0.94\n",
      "  Valid Loss: 8.265177408854167e-07\n",
      "  Valid Acc:  1.0\n",
      "Epoch 13/25\n",
      "  Train Loss: 0.9164447164535523\n",
      "  Train Acc:  0.94\n",
      "  Valid Loss: 0.020413780212402345\n",
      "  Valid Acc:  1.0\n",
      "Epoch 14/25\n",
      "  Train Loss: 0.9222694754600524\n",
      "  Train Acc:  0.92\n",
      "  Valid Loss: 0.0\n",
      "  Valid Acc:  1.0\n",
      "Epoch 15/25\n",
      "  Train Loss: 1.7158031606674193\n",
      "  Train Acc:  0.9\n",
      "  Valid Loss: 0.5837396621704102\n",
      "  Valid Acc:  0.9666666666666667\n",
      "Epoch 16/25\n",
      "  Train Loss: 0.011316403150558471\n",
      "  Train Acc:  1.0\n",
      "  Valid Loss: 0.5671705881754557\n",
      "  Valid Acc:  0.9666666666666667\n",
      "Epoch 17/25\n",
      "  Train Loss: 1.6851046514511108\n",
      "  Train Acc:  0.94\n",
      "  Valid Loss: 0.0\n",
      "  Valid Acc:  1.0\n",
      "Epoch 18/25\n",
      "  Train Loss: 2.207577638626099\n",
      "  Train Acc:  0.88\n",
      "  Valid Loss: 2.6226043701171875e-05\n",
      "  Valid Acc:  1.0\n",
      "Epoch 19/25\n",
      "  Train Loss: 1.4510429668426514\n",
      "  Train Acc:  0.94\n",
      "  Valid Loss: 0.6387771606445313\n",
      "  Valid Acc:  0.9666666666666667\n",
      "Epoch 20/25\n",
      "  Train Loss: 3.6485590648651125\n",
      "  Train Acc:  0.9\n",
      "  Valid Loss: 1.5894571940104166e-08\n",
      "  Valid Acc:  1.0\n",
      "Epoch 21/25\n",
      "  Train Loss: 2.047355402223766\n",
      "  Train Acc:  0.96\n",
      "  Valid Loss: 0.0\n",
      "  Valid Acc:  1.0\n",
      "Epoch 22/25\n",
      "  Train Loss: 1.8583767366409303\n",
      "  Train Acc:  0.9\n",
      "  Valid Loss: 3.884962463378906\n",
      "  Valid Acc:  0.9333333333333333\n",
      "Epoch 23/25\n",
      "  Train Loss: 1.0794227933883667\n",
      "  Train Acc:  0.98\n",
      "  Valid Loss: 0.0\n",
      "  Valid Acc:  1.0\n",
      "Epoch 24/25\n",
      "  Train Loss: 1.061528549194336\n",
      "  Train Acc:  0.96\n",
      "  Valid Loss: 0.6161333084106445\n",
      "  Valid Acc:  0.9666666666666667\n",
      "Epoch 25/25\n",
      "  Train Loss: 1.8458666336536407\n",
      "  Train Acc:  0.88\n",
      "  Valid Loss: 0.0\n",
      "  Valid Acc:  1.0\n"
     ]
    }
   ],
   "source": [
    "N_EPOCHS = 25\n",
    "train_loss = []\n",
    "valid_loss = []\n",
    "for epoch in range(N_EPOCHS):\n",
    "    print(f\"Epoch {epoch+1}/{N_EPOCHS}\")\n",
    "    \n",
    "    # Train\n",
    "    model.train()  # IMPORTANT\n",
    "    \n",
    "    running_loss, correct = 0.0, 0\n",
    "    for X, y in train_dl:\n",
    "        \n",
    "        \n",
    "        optimizer.zero_grad()\n",
    "        y_ = model(X)\n",
    "        loss = criterion(y_, y)\n",
    "        loss.backward()\n",
    "        optimizer.step()\n",
    "        \n",
    "        # Statistics\n",
    "        #print(f\"    batch loss: {loss.item():0.3f}\")\n",
    "        _, y_label_ = torch.max(y_, 1)\n",
    "        correct += (y_label_ == y).sum().item()\n",
    "        running_loss += loss.item() * X.shape[0]\n",
    "    \n",
    "    print(f\"  Train Loss: {running_loss / len(train_dl.dataset)}\")\n",
    "    print(f\"  Train Acc:  {correct / len(train_dl.dataset)}\")\n",
    "    train_loss.append([epoch,running_loss / len(train_dl.dataset)])\n",
    "    \n",
    "    # Eval\n",
    "    model.eval()  # IMPORTANT\n",
    "    \n",
    "    running_loss, correct = 0.0, 0\n",
    "    with torch.no_grad():  # IMPORTANT\n",
    "        for X, y in test_dl:\n",
    "            \n",
    "                    \n",
    "            y_ = model(X)\n",
    "        \n",
    "            # Statistics\n",
    "            _, y_label_ = torch.max(y_, 1)\n",
    "            correct += (y_label_ == y).sum().item()\n",
    "            loss = criterion(y_, y)\n",
    "            running_loss += loss.item() * X.shape[0]\n",
    "    \n",
    "    print(f\"  Valid Loss: {running_loss / len(test_dl.dataset)}\")\n",
    "    print(f\"  Valid Acc:  {correct / len(test_dl.dataset)}\")\n",
    "    valid_loss.append([epoch,running_loss / len(train_dl.dataset)])"
   ]
  },
  {
   "cell_type": "code",
   "execution_count": 20,
   "metadata": {},
   "outputs": [
    {
     "name": "stdout",
     "output_type": "stream",
     "text": [
      "F1-score micro: 1.0\n",
      "F1-score macro: 1.0\n",
      "F1-score weighted: 1.0\n",
      "  Valid Loss: 0.0\n",
      "  Valid Acc:  1.0\n",
      "tensor([0, 0, 0, 0, 0, 0, 0, 0, 0, 1, 1, 1, 1, 1, 1, 1, 1, 1, 1, 1, 1, 1, 1, 1,\n",
      "        1, 1, 1, 1, 1, 1])\n",
      "tensor([0, 0, 0, 0, 0, 0, 0, 0, 0, 1, 1, 1, 1, 1, 1, 1, 1, 1, 1, 1, 1, 1, 1, 1,\n",
      "        1, 1, 1, 1, 1, 1])\n"
     ]
    }
   ],
   "source": [
    "test_dl = DataLoader(test_ds, batch_size = len(test_ds), shuffle = False)\n",
    "with torch.no_grad():# IMPORTANT\n",
    "    running_loss, correct = 0.0, 0\n",
    "    for X, y in test_dl:\n",
    "            \n",
    "            y_ = model(X)\n",
    "        \n",
    "            # Statistics\n",
    "            _, y_label_ = torch.max(y_, 1)\n",
    "            correct += (y_label_ == y).sum().item()\n",
    "            loss = criterion(y_, y)\n",
    "            running_loss += loss.item() * X.shape[0]\n",
    "            \n",
    "    F1ScoreMicro = f1_score(y, y_label_, average=\"micro\")\n",
    "    F1ScoreMacro = f1_score(y, y_label_, average=\"macro\")\n",
    "    F1ScoreWeighted = f1_score(y, y_label_, average=\"weighted\")\n",
    "    print(f\"F1-score micro: {F1ScoreMicro}\")\n",
    "    print(f\"F1-score macro: {F1ScoreMacro}\")\n",
    "    print(f\"F1-score weighted: {F1ScoreWeighted}\")\n",
    "    print(f\"  Valid Loss: {running_loss / len(test_dl.dataset)}\")\n",
    "    print(f\"  Valid Acc:  {correct / len(test_dl.dataset)}\")\n",
    "    print(y)\n",
    "    print(y_label_)"
   ]
  },
  {
   "cell_type": "code",
   "execution_count": 21,
   "metadata": {},
   "outputs": [
    {
     "data": {
      "text/plain": [
       "[<matplotlib.lines.Line2D at 0x7fb67434e0f0>,\n",
       " <matplotlib.lines.Line2D at 0x7fb67434e240>]"
      ]
     },
     "execution_count": 21,
     "metadata": {},
     "output_type": "execute_result"
    },
    {
     "data": {
      "image/png": "[encoded data removed]",
      "text/plain": [
       "<Figure size 432x288 with 1 Axes>"
      ]
     },
     "metadata": {},
     "output_type": "display_data"
    }
   ],
   "source": [
    "trl = np.asarray(train_loss)\n",
    "tsl = np.asarray(valid_loss)\n",
    "plt.plot(trl[:,0],trl[:,1],tsl[:,0],tsl[:,1])"
   ]
  },
  {
   "cell_type": "code",
   "execution_count": null,
   "metadata": {},
   "outputs": [],
   "source": []
  }
 ],
 "metadata": {
  "kernelspec": {
   "display_name": "Python 3",
   "language": "python",
   "name": "python3"
  },
  "language_info": {
   "codemirror_mode": {
    "name": "ipython",
    "version": 3
   },
   "file_extension": ".py",
   "mimetype": "text/x-python",
   "name": "python",
   "nbconvert_exporter": "python",
   "pygments_lexer": "ipython3",
   "version": "3.6.5"
  }
 },
 "nbformat": 4,
 "nbformat_minor": 2
}
