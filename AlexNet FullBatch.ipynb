{
 "cells": [
  {
   "cell_type": "code",
   "execution_count": 1,
   "metadata": {},
   "outputs": [],
   "source": [
    "import torch\n",
    "from torch import nn\n",
    "from torch import optim\n",
    "import torch.nn.functional as F\n",
    "from torchvision import datasets, transforms, models\n",
    "import numpy as np\n",
    "import matplotlib.pyplot as plt\n",
    "from sklearn.metrics import f1_score"
   ]
  },
  {
   "cell_type": "code",
   "execution_count": 2,
   "metadata": {},
   "outputs": [],
   "source": [
    "data_dir = \"/home/wubbalubba/DL/Datasets\"\n",
    "\n",
    "train_dir = data_dir + \"/train\"\n",
    "dev_dir = data_dir + \"/dev\"\n",
    "test_dir = data_dir + \"/test\""
   ]
  },
  {
   "cell_type": "code",
   "execution_count": 3,
   "metadata": {},
   "outputs": [],
   "source": [
    "train_transforms = transforms.Compose([\n",
    "    transforms.Resize(500),\n",
    "    transforms.RandomCrop(227),\n",
    "    transforms.ToTensor(),\n",
    "    transforms.Normalize([0.485,0.456,0.406],\n",
    "                         [0.229,0.224,0.225])\n",
    "])\n",
    "\n",
    "dev_transforms = transforms.Compose([\n",
    "    transforms.Resize(500),\n",
    "    transforms.CenterCrop(227),\n",
    "    transforms.ToTensor(),\n",
    "    transforms.Normalize([0.485,0.456,0.406],\n",
    "                         [0.229,0.224,0.225])\n",
    "])\n",
    "\n",
    "test_transforms = transforms.Compose([\n",
    "    transforms.Resize(500),\n",
    "    transforms.CenterCrop(227),\n",
    "    transforms.ToTensor(),\n",
    "    transforms.Normalize([0.485,0.456,0.406],\n",
    "                         [0.229,0.224,0.225])\n",
    "])\n",
    "\n",
    "check_transforms = transforms.Compose([\n",
    "    transforms.Resize(400),\n",
    "])"
   ]
  },
  {
   "cell_type": "code",
   "execution_count": 4,
   "metadata": {},
   "outputs": [],
   "source": [
    "train_ds = datasets.ImageFolder(train_dir,transform=train_transforms)\n",
    "\n",
    "#dev_ds = datasets.ImageFolder(dev_dir,transform=dev_transforms)\n",
    "\n",
    "test_ds = datasets.ImageFolder(test_dir,transform=test_transforms)\n",
    "\n",
    "check_ds = datasets.ImageFolder(test_dir, transform=check_transforms)"
   ]
  },
  {
   "cell_type": "code",
   "execution_count": 5,
   "metadata": {},
   "outputs": [],
   "source": [
    "def make_weights_for_balanced_classes(images, nclasses):                        \n",
    "    count = [0] * nclasses                                                      \n",
    "    for item in images:                                                         \n",
    "        count[item[1]] += 1                                                     \n",
    "    weight_per_class = [0.] * nclasses                                      \n",
    "    N = float(sum(count))                                                   \n",
    "    for i in range(nclasses):                                                   \n",
    "        weight_per_class[i] = N/float(count[i])                                 \n",
    "    weight = [0] * len(images)                                              \n",
    "    for idx, val in enumerate(images):                                          \n",
    "        weight[idx] = weight_per_class[val[1]]                                  \n",
    "    return weight  "
   ]
  },
  {
   "cell_type": "code",
   "execution_count": 6,
   "metadata": {},
   "outputs": [
    {
     "name": "stderr",
     "output_type": "stream",
     "text": [
      "/home/wubbalubba/anaconda3/lib/python3.6/site-packages/torch/utils/data/sampler.py:115: UserWarning: To copy construct from a tensor, it is recommended to use sourceTensor.clone().detach() or sourceTensor.clone().detach().requires_grad_(True), rather than torch.tensor(sourceTensor).\n",
      "  self.weights = torch.tensor(weights, dtype=torch.double)\n"
     ]
    }
   ],
   "source": [
    "weights = make_weights_for_balanced_classes(train_ds.imgs, len(train_ds.classes))                                                                \n",
    "weights = torch.DoubleTensor(weights)                                       \n",
    "sampler = torch.utils.data.sampler.WeightedRandomSampler(weights, len(weights))                     \n",
    "                                                                                \n",
    "train_dl = torch.utils.data.DataLoader(train_ds, batch_size=4, shuffle = False, sampler = sampler) "
   ]
  },
  {
   "cell_type": "code",
   "execution_count": 7,
   "metadata": {},
   "outputs": [],
   "source": [
    "from torch.utils.data import DataLoader"
   ]
  },
  {
   "cell_type": "code",
   "execution_count": 8,
   "metadata": {},
   "outputs": [],
   "source": [
    "train_dl = DataLoader(train_ds, batch_size = 4, shuffle = True)\n",
    "\n",
    "#dev_dl = DataLoader(dev_ds, batch_size = 2, shuffle = False)\n",
    "\n",
    "test_dl = DataLoader(test_ds, batch_size = 1, shuffle = False)\n",
    "\n",
    "check_dl = DataLoader(check_ds, batch_size = 1, shuffle = False)"
   ]
  },
  {
   "cell_type": "code",
   "execution_count": 9,
   "metadata": {},
   "outputs": [
    {
     "name": "stdout",
     "output_type": "stream",
     "text": [
      "X: torch.Size([50, 3, 227, 227]) \n",
      "y: torch.Size([50])\n"
     ]
    },
    {
     "data": {
      "text/plain": [
       "Dataset ImageFolder\n",
       "    Number of datapoints: 50\n",
       "    Root Location: /home/wubbalubba/DL/Datasets/train\n",
       "    Transforms (if any): Compose(\n",
       "                             Resize(size=500, interpolation=PIL.Image.BILINEAR)\n",
       "                             RandomCrop(size=(227, 227), padding=None)\n",
       "                             ToTensor()\n",
       "                             Normalize(mean=[0.485, 0.456, 0.406], std=[0.229, 0.224, 0.225])\n",
       "                         )\n",
       "    Target Transforms (if any): None"
      ]
     },
     "execution_count": 9,
     "metadata": {},
     "output_type": "execute_result"
    }
   ],
   "source": [
    "train_iter = iter(train_dl)\n",
    "X, y = next(train_iter)\n",
    "print(\"X: {} \\ny: {}\".format(X.shape,y.shape))\n",
    "train_dl.dataset"
   ]
  },
  {
   "cell_type": "code",
   "execution_count": 10,
   "metadata": {},
   "outputs": [],
   "source": [
    "N_epochs = 10"
   ]
  },
  {
   "cell_type": "code",
   "execution_count": 11,
   "metadata": {},
   "outputs": [],
   "source": [
    "model = models.alexnet(pretrained=True)"
   ]
  },
  {
   "cell_type": "code",
   "execution_count": 12,
   "metadata": {},
   "outputs": [
    {
     "data": {
      "text/plain": [
       "AlexNet(\n",
       "  (features): Sequential(\n",
       "    (0): Conv2d(3, 64, kernel_size=(11, 11), stride=(4, 4), padding=(2, 2))\n",
       "    (1): ReLU(inplace)\n",
       "    (2): MaxPool2d(kernel_size=3, stride=2, padding=0, dilation=1, ceil_mode=False)\n",
       "    (3): Conv2d(64, 192, kernel_size=(5, 5), stride=(1, 1), padding=(2, 2))\n",
       "    (4): ReLU(inplace)\n",
       "    (5): MaxPool2d(kernel_size=3, stride=2, padding=0, dilation=1, ceil_mode=False)\n",
       "    (6): Conv2d(192, 384, kernel_size=(3, 3), stride=(1, 1), padding=(1, 1))\n",
       "    (7): ReLU(inplace)\n",
       "    (8): Conv2d(384, 256, kernel_size=(3, 3), stride=(1, 1), padding=(1, 1))\n",
       "    (9): ReLU(inplace)\n",
       "    (10): Conv2d(256, 256, kernel_size=(3, 3), stride=(1, 1), padding=(1, 1))\n",
       "    (11): ReLU(inplace)\n",
       "    (12): MaxPool2d(kernel_size=3, stride=2, padding=0, dilation=1, ceil_mode=False)\n",
       "  )\n",
       "  (avgpool): AdaptiveAvgPool2d(output_size=(6, 6))\n",
       "  (classifier): Sequential(\n",
       "    (0): Dropout(p=0.5)\n",
       "    (1): Linear(in_features=9216, out_features=4096, bias=True)\n",
       "    (2): ReLU(inplace)\n",
       "    (3): Dropout(p=0.5)\n",
       "    (4): Linear(in_features=4096, out_features=4096, bias=True)\n",
       "    (5): ReLU(inplace)\n",
       "    (6): Linear(in_features=4096, out_features=1000, bias=True)\n",
       "  )\n",
       ")"
      ]
     },
     "execution_count": 12,
     "metadata": {},
     "output_type": "execute_result"
    }
   ],
   "source": [
    "model"
   ]
  },
  {
   "cell_type": "code",
   "execution_count": 13,
   "metadata": {},
   "outputs": [],
   "source": [
    "def all_frozen(model_params):\n",
    "    return all(not p.requires_grad for p in model_params)\n",
    "\n",
    "def all_trainable(model_params):\n",
    "    return all(p.requires_grad for p in model_params)\n",
    "\n",
    "def get_trainable(model_params):\n",
    "    return (p for p in model_params if p.requires_grad)\n",
    "\n",
    "def freeze_all(model_params):\n",
    "    for param in model_params:\n",
    "        param.requires_grad = False"
   ]
  },
  {
   "cell_type": "code",
   "execution_count": 14,
   "metadata": {},
   "outputs": [],
   "source": [
    "freeze_all(model.parameters())\n",
    "assert all_frozen(model.parameters())"
   ]
  },
  {
   "cell_type": "code",
   "execution_count": 15,
   "metadata": {},
   "outputs": [],
   "source": [
    "classifier = list(model.classifier.children())\n",
    "model.classifier = nn.Sequential(*classifier[:-1])\n",
    "model.classifier.add_module('6', nn.Linear(classifier[-1].in_features, out_features=2048))\n",
    "model.classifier.add_module('7', nn.Linear(2048, out_features=2))"
   ]
  },
  {
   "cell_type": "code",
   "execution_count": 16,
   "metadata": {},
   "outputs": [
    {
     "data": {
      "text/plain": [
       "AlexNet(\n",
       "  (features): Sequential(\n",
       "    (0): Conv2d(3, 64, kernel_size=(11, 11), stride=(4, 4), padding=(2, 2))\n",
       "    (1): ReLU(inplace)\n",
       "    (2): MaxPool2d(kernel_size=3, stride=2, padding=0, dilation=1, ceil_mode=False)\n",
       "    (3): Conv2d(64, 192, kernel_size=(5, 5), stride=(1, 1), padding=(2, 2))\n",
       "    (4): ReLU(inplace)\n",
       "    (5): MaxPool2d(kernel_size=3, stride=2, padding=0, dilation=1, ceil_mode=False)\n",
       "    (6): Conv2d(192, 384, kernel_size=(3, 3), stride=(1, 1), padding=(1, 1))\n",
       "    (7): ReLU(inplace)\n",
       "    (8): Conv2d(384, 256, kernel_size=(3, 3), stride=(1, 1), padding=(1, 1))\n",
       "    (9): ReLU(inplace)\n",
       "    (10): Conv2d(256, 256, kernel_size=(3, 3), stride=(1, 1), padding=(1, 1))\n",
       "    (11): ReLU(inplace)\n",
       "    (12): MaxPool2d(kernel_size=3, stride=2, padding=0, dilation=1, ceil_mode=False)\n",
       "  )\n",
       "  (avgpool): AdaptiveAvgPool2d(output_size=(6, 6))\n",
       "  (classifier): Sequential(\n",
       "    (0): Dropout(p=0.5)\n",
       "    (1): Linear(in_features=9216, out_features=4096, bias=True)\n",
       "    (2): ReLU(inplace)\n",
       "    (3): Dropout(p=0.5)\n",
       "    (4): Linear(in_features=4096, out_features=4096, bias=True)\n",
       "    (5): ReLU(inplace)\n",
       "    (6): Linear(in_features=4096, out_features=2048, bias=True)\n",
       "    (7): Linear(in_features=2048, out_features=2, bias=True)\n",
       "  )\n",
       ")"
      ]
     },
     "execution_count": 16,
     "metadata": {},
     "output_type": "execute_result"
    }
   ],
   "source": [
    "model"
   ]
  },
  {
   "cell_type": "code",
   "execution_count": 17,
   "metadata": {},
   "outputs": [],
   "source": [
    "criterion = nn.CrossEntropyLoss()"
   ]
  },
  {
   "cell_type": "code",
   "execution_count": 18,
   "metadata": {},
   "outputs": [],
   "source": [
    "optimizer = torch.optim.Adam(\n",
    "    get_trainable(model.parameters()),\n",
    "    lr=0.001,\n",
    "    # momentum=0.9,\n",
    ")"
   ]
  },
  {
   "cell_type": "code",
   "execution_count": 19,
   "metadata": {},
   "outputs": [
    {
     "name": "stdout",
     "output_type": "stream",
     "text": [
      "Epoch 1/25\n",
      "  Train Loss: 0.5528887510299683\n",
      "  Train Acc:  0.76\n",
      "  Valid Loss: 6.870829010009766\n",
      "  Valid Acc:  0.7\n",
      "Epoch 2/25\n",
      "  Train Loss: 4.581603050231934\n",
      "  Train Acc:  0.82\n",
      "  Valid Loss: 4.864839839935303\n",
      "  Valid Acc:  0.7\n",
      "Epoch 3/25\n",
      "  Train Loss: 3.7015435695648193\n",
      "  Train Acc:  0.82\n",
      "  Valid Loss: 1.529092276096344\n",
      "  Valid Acc:  0.8333333333333334\n",
      "Epoch 4/25\n",
      "  Train Loss: 1.5973891019821167\n",
      "  Train Acc:  0.86\n",
      "  Valid Loss: 0.4574432690938314\n",
      "  Valid Acc:  0.9666666666666667\n",
      "Epoch 5/25\n",
      "  Train Loss: 0.38021546602249146\n",
      "  Train Acc:  0.92\n",
      "  Valid Loss: 0.16465450127919515\n",
      "  Valid Acc:  0.9333333333333333\n",
      "Epoch 6/25\n",
      "  Train Loss: 0.8246026635169983\n",
      "  Train Acc:  0.82\n",
      "  Valid Loss: 0.2074961284796397\n",
      "  Valid Acc:  0.9333333333333333\n",
      "Epoch 7/25\n",
      "  Train Loss: 1.6112241744995117\n",
      "  Train Acc:  0.7\n",
      "  Valid Loss: 0.038545000553131106\n",
      "  Valid Acc:  1.0\n",
      "Epoch 8/25\n",
      "  Train Loss: 1.158431887626648\n",
      "  Train Acc:  0.76\n",
      "  Valid Loss: 0.12978432973225912\n",
      "  Valid Acc:  0.9666666666666667\n",
      "Epoch 9/25\n",
      "  Train Loss: 0.1802918016910553\n",
      "  Train Acc:  0.98\n",
      "  Valid Loss: 0.2292510430018107\n",
      "  Valid Acc:  0.9666666666666667\n",
      "Epoch 10/25\n",
      "  Train Loss: 0.31546521186828613\n",
      "  Train Acc:  0.92\n",
      "  Valid Loss: 0.40138530333836875\n",
      "  Valid Acc:  0.9\n",
      "Epoch 11/25\n",
      "  Train Loss: 0.29366397857666016\n",
      "  Train Acc:  0.92\n",
      "  Valid Loss: 0.658212951819102\n",
      "  Valid Acc:  0.8666666666666667\n",
      "Epoch 12/25\n",
      "  Train Loss: 0.8989104628562927\n",
      "  Train Acc:  0.86\n",
      "  Valid Loss: 0.5887034555276235\n",
      "  Valid Acc:  0.8666666666666667\n",
      "Epoch 13/25\n",
      "  Train Loss: 0.5440735220909119\n",
      "  Train Acc:  0.86\n",
      "  Valid Loss: 0.250706614057223\n",
      "  Valid Acc:  0.9\n",
      "Epoch 14/25\n",
      "  Train Loss: 0.21953439712524414\n",
      "  Train Acc:  0.92\n",
      "  Valid Loss: 0.03490524391333262\n",
      "  Valid Acc:  1.0\n",
      "Epoch 15/25\n",
      "  Train Loss: 0.0102268997579813\n",
      "  Train Acc:  1.0\n",
      "  Valid Loss: 0.0032666484514872235\n",
      "  Valid Acc:  1.0\n",
      "Epoch 16/25\n",
      "  Train Loss: 0.0871788039803505\n",
      "  Train Acc:  0.96\n",
      "  Valid Loss: 0.0004809220631917318\n",
      "  Valid Acc:  1.0\n",
      "Epoch 17/25\n",
      "  Train Loss: 0.012333355844020844\n",
      "  Train Acc:  1.0\n",
      "  Valid Loss: 0.00018218358357747396\n",
      "  Valid Acc:  1.0\n",
      "Epoch 18/25\n",
      "  Train Loss: 0.021785274147987366\n",
      "  Train Acc:  1.0\n",
      "  Valid Loss: 0.0003404537836710612\n",
      "  Valid Acc:  1.0\n",
      "Epoch 19/25\n",
      "  Train Loss: 0.054211389273405075\n",
      "  Train Acc:  0.98\n",
      "  Valid Loss: 0.0007129033406575521\n",
      "  Valid Acc:  1.0\n",
      "Epoch 20/25\n",
      "  Train Loss: 0.26961445808410645\n",
      "  Train Acc:  0.9\n",
      "  Valid Loss: 0.000858004887898763\n",
      "  Valid Acc:  1.0\n",
      "Epoch 21/25\n",
      "  Train Loss: 0.1642833650112152\n",
      "  Train Acc:  0.98\n",
      "  Valid Loss: 0.0007631222407023112\n",
      "  Valid Acc:  1.0\n",
      "Epoch 22/25\n",
      "  Train Loss: 0.1462380737066269\n",
      "  Train Acc:  0.98\n",
      "  Valid Loss: 0.0005407015482584636\n",
      "  Valid Acc:  1.0\n",
      "Epoch 23/25\n",
      "  Train Loss: 0.18519222736358643\n",
      "  Train Acc:  0.96\n",
      "  Valid Loss: 0.00021870136260986327\n",
      "  Valid Acc:  1.0\n",
      "Epoch 24/25\n",
      "  Train Loss: 0.029446225613355637\n",
      "  Train Acc:  0.98\n",
      "  Valid Loss: 0.00012549559275309245\n",
      "  Valid Acc:  1.0\n",
      "Epoch 25/25\n",
      "  Train Loss: 0.22784557938575745\n",
      "  Train Acc:  0.92\n",
      "  Valid Loss: 0.00017076333363850912\n",
      "  Valid Acc:  1.0\n"
     ]
    }
   ],
   "source": [
    "N_EPOCHS = 25\n",
    "train_loss = []\n",
    "valid_loss = []\n",
    "for epoch in range(N_EPOCHS):\n",
    "    print(f\"Epoch {epoch+1}/{N_EPOCHS}\")\n",
    "    \n",
    "    # Train\n",
    "    model.train()  # IMPORTANT\n",
    "    \n",
    "    running_loss, correct = 0.0, 0\n",
    "    for X, y in train_dl:\n",
    "        \n",
    "        \n",
    "        optimizer.zero_grad()\n",
    "        y_ = model(X)\n",
    "        loss = criterion(y_, y)\n",
    "        loss.backward()\n",
    "        optimizer.step()\n",
    "        \n",
    "        # Statistics\n",
    "        #print(f\"    batch loss: {loss.item():0.3f}\")\n",
    "        _, y_label_ = torch.max(y_, 1)\n",
    "        correct += (y_label_ == y).sum().item()\n",
    "        running_loss += loss.item() * X.shape[0]\n",
    "    \n",
    "    print(f\"  Train Loss: {running_loss / len(train_dl.dataset)}\")\n",
    "    print(f\"  Train Acc:  {correct / len(train_dl.dataset)}\")\n",
    "    train_loss.append([epoch,running_loss / len(train_dl.dataset)])\n",
    "    \n",
    "    # Eval\n",
    "    model.eval()  # IMPORTANT\n",
    "    \n",
    "    running_loss, correct = 0.0, 0\n",
    "    with torch.no_grad():  # IMPORTANT\n",
    "        for X, y in test_dl:\n",
    "            \n",
    "                    \n",
    "            y_ = model(X)\n",
    "        \n",
    "            # Statistics\n",
    "            _, y_label_ = torch.max(y_, 1)\n",
    "            correct += (y_label_ == y).sum().item()\n",
    "            loss = criterion(y_, y)\n",
    "            running_loss += loss.item() * X.shape[0]\n",
    "    \n",
    "    print(f\"  Valid Loss: {running_loss / len(test_dl.dataset)}\")\n",
    "    print(f\"  Valid Acc:  {correct / len(test_dl.dataset)}\")\n",
    "    valid_loss.append([epoch,running_loss / len(train_dl.dataset)])"
   ]
  },
  {
   "cell_type": "code",
   "execution_count": 20,
   "metadata": {},
   "outputs": [
    {
     "name": "stdout",
     "output_type": "stream",
     "text": [
      "F1-score micro: 1.0\n",
      "F1-score macro: 1.0\n",
      "F1-score weighted: 1.0\n",
      "  Valid Loss: 0.0001707633346086368\n",
      "  Valid Acc:  1.0\n",
      "tensor([0, 0, 0, 0, 0, 0, 0, 0, 0, 1, 1, 1, 1, 1, 1, 1, 1, 1, 1, 1, 1, 1, 1, 1,\n",
      "        1, 1, 1, 1, 1, 1])\n",
      "tensor([0, 0, 0, 0, 0, 0, 0, 0, 0, 1, 1, 1, 1, 1, 1, 1, 1, 1, 1, 1, 1, 1, 1, 1,\n",
      "        1, 1, 1, 1, 1, 1])\n"
     ]
    }
   ],
   "source": [
    "test_dl = DataLoader(test_ds, batch_size = len(test_ds), shuffle = False)\n",
    "with torch.no_grad():# IMPORTANT\n",
    "    running_loss, correct = 0.0, 0\n",
    "    for X, y in test_dl:\n",
    "            \n",
    "            y_ = model(X)\n",
    "        \n",
    "            # Statistics\n",
    "            _, y_label_ = torch.max(y_, 1)\n",
    "            correct += (y_label_ == y).sum().item()\n",
    "            loss = criterion(y_, y)\n",
    "            running_loss += loss.item() * X.shape[0]\n",
    "            \n",
    "    F1ScoreMicro = f1_score(y, y_label_, average=\"micro\")\n",
    "    F1ScoreMacro = f1_score(y, y_label_, average=\"macro\")\n",
    "    F1ScoreWeighted = f1_score(y, y_label_, average=\"weighted\")\n",
    "    print(f\"F1-score micro: {F1ScoreMicro}\")\n",
    "    print(f\"F1-score macro: {F1ScoreMacro}\")\n",
    "    print(f\"F1-score weighted: {F1ScoreWeighted}\")\n",
    "    print(f\"  Valid Loss: {running_loss / len(test_dl.dataset)}\")\n",
    "    print(f\"  Valid Acc:  {correct / len(test_dl.dataset)}\")\n",
    "    print(y)\n",
    "    print(y_label_)"
   ]
  },
  {
   "cell_type": "code",
   "execution_count": 21,
   "metadata": {},
   "outputs": [
    {
     "data": {
      "text/plain": [
       "[<matplotlib.lines.Line2D at 0x7f603c25a9e8>,\n",
       " <matplotlib.lines.Line2D at 0x7f603a1042e8>]"
      ]
     },
     "execution_count": 21,
     "metadata": {},
     "output_type": "execute_result"
    },
    {
     "data": {
      "image/png": "[encoded data removed]",
      "text/plain": [
       "<Figure size 432x288 with 1 Axes>"
      ]
     },
     "metadata": {},
     "output_type": "display_data"
    }
   ],
   "source": [
    "trl = np.asarray(train_loss)\n",
    "tsl = np.asarray(valid_loss)\n",
    "plt.plot(trl[:,0],trl[:,1],tsl[:,0],tsl[:,1])"
   ]
  },
  {
   "cell_type": "code",
   "execution_count": null,
   "metadata": {},
   "outputs": [],
   "source": []
  }
 ],
 "metadata": {
  "kernelspec": {
   "display_name": "Python 3",
   "language": "python",
   "name": "python3"
  },
  "language_info": {
   "codemirror_mode": {
    "name": "ipython",
    "version": 3
   },
   "file_extension": ".py",
   "mimetype": "text/x-python",
   "name": "python",
   "nbconvert_exporter": "python",
   "pygments_lexer": "ipython3",
   "version": "3.6.5"
  }
 },
 "nbformat": 4,
 "nbformat_minor": 2
}
