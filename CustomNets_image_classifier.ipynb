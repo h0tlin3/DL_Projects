{
 "cells": [
  {
   "cell_type": "code",
   "execution_count": 28,
   "metadata": {},
   "outputs": [],
   "source": [
    "import torch\n",
    "from torch import nn\n",
    "from torch import optim\n",
    "import torch.nn.functional as F\n",
    "from torchvision import datasets, transforms, models\n",
    "import numpy as np\n",
    "import matplotlib.pyplot as plt\n",
    "from sklearn.metrics import f1_score"
   ]
  },
  {
   "cell_type": "code",
   "execution_count": 29,
   "metadata": {},
   "outputs": [],
   "source": [
    "data_dir = \"/home/wubbalubba/DL/Datasets\"\n",
    "\n",
    "train_dir = data_dir + \"/train\"\n",
    "dev_dir = data_dir + \"/dev\"\n",
    "test_dir = data_dir + \"/test\""
   ]
  },
  {
   "cell_type": "code",
   "execution_count": 30,
   "metadata": {},
   "outputs": [],
   "source": [
    "train_transforms = transforms.Compose([\n",
    "    transforms.Resize(600),\n",
    "    transforms.RandomCrop(500),\n",
    "    transforms.ToTensor(),\n",
    "    transforms.Normalize([0.485,0.456,0.406],\n",
    "                         [0.229,0.224,0.225])\n",
    "])\n",
    "\n",
    "dev_transforms = transforms.Compose([\n",
    "    transforms.Resize(400),\n",
    "    transforms.CenterCrop(300),\n",
    "    transforms.ToTensor(),\n",
    "    transforms.Normalize([0.485,0.456,0.406],\n",
    "                         [0.229,0.224,0.225])\n",
    "])\n",
    "\n",
    "test_transforms = transforms.Compose([\n",
    "    transforms.Resize(600),\n",
    "    transforms.CenterCrop(500),\n",
    "    transforms.ToTensor(),\n",
    "    transforms.Normalize([0.485,0.456,0.406],\n",
    "                         [0.229,0.224,0.225])\n",
    "])\n",
    "\n",
    "check_transforms = transforms.Compose([\n",
    "    transforms.Resize(400),\n",
    "])"
   ]
  },
  {
   "cell_type": "code",
   "execution_count": 31,
   "metadata": {},
   "outputs": [],
   "source": [
    "train_ds = datasets.ImageFolder(train_dir,transform=train_transforms)\n",
    "\n",
    "#dev_ds = datasets.ImageFolder(dev_dir,transform=dev_transforms)\n",
    "\n",
    "test_ds = datasets.ImageFolder(test_dir,transform=test_transforms)\n",
    "\n",
    "check_ds = datasets.ImageFolder(test_dir, transform=check_transforms)"
   ]
  },
  {
   "cell_type": "code",
   "execution_count": 32,
   "metadata": {},
   "outputs": [],
   "source": [
    "def make_weights_for_balanced_classes(images, nclasses):                        \n",
    "    count = [0] * nclasses                                                      \n",
    "    for item in images:                                                         \n",
    "        count[item[1]] += 1                                                     \n",
    "    weight_per_class = [0.] * nclasses                                      \n",
    "    N = float(sum(count))                                                   \n",
    "    for i in range(nclasses):                                                   \n",
    "        weight_per_class[i] = N/float(count[i])                                 \n",
    "    weight = [0] * len(images)                                              \n",
    "    for idx, val in enumerate(images):                                          \n",
    "        weight[idx] = weight_per_class[val[1]]                                  \n",
    "    return weight  "
   ]
  },
  {
   "cell_type": "code",
   "execution_count": 33,
   "metadata": {},
   "outputs": [
    {
     "name": "stderr",
     "output_type": "stream",
     "text": [
      "/home/wubbalubba/anaconda3/lib/python3.6/site-packages/torch/utils/data/sampler.py:115: UserWarning: To copy construct from a tensor, it is recommended to use sourceTensor.clone().detach() or sourceTensor.clone().detach().requires_grad_(True), rather than torch.tensor(sourceTensor).\n",
      "  self.weights = torch.tensor(weights, dtype=torch.double)\n"
     ]
    }
   ],
   "source": [
    "weights = make_weights_for_balanced_classes(train_ds.imgs, len(train_ds.classes))                                                                \n",
    "weights = torch.DoubleTensor(weights)                                       \n",
    "sampler = torch.utils.data.sampler.WeightedRandomSampler(weights, len(weights))                     \n",
    "                                                                                \n",
    "train_dl = torch.utils.data.DataLoader(train_ds, batch_size=4, shuffle = False, sampler = sampler)     "
   ]
  },
  {
   "cell_type": "code",
   "execution_count": 34,
   "metadata": {},
   "outputs": [],
   "source": [
    "from torch.utils.data import DataLoader"
   ]
  },
  {
   "cell_type": "code",
   "execution_count": 35,
   "metadata": {},
   "outputs": [],
   "source": [
    "train_dl = DataLoader(train_ds, batch_size = 4, shuffle = True)\n",
    "\n",
    "#dev_dl = DataLoader(dev_ds, batch_size = 2, shuffle = False)\n",
    "\n",
    "test_dl = DataLoader(test_ds, batch_size = 4, shuffle = False)\n",
    "\n",
    "check_dl = DataLoader(check_ds, batch_size = 1, shuffle = False)"
   ]
  },
  {
   "cell_type": "code",
   "execution_count": 36,
   "metadata": {},
   "outputs": [],
   "source": [
    "train_iter = iter(train_dl)"
   ]
  },
  {
   "cell_type": "code",
   "execution_count": 37,
   "metadata": {},
   "outputs": [
    {
     "name": "stdout",
     "output_type": "stream",
     "text": [
      "X: torch.Size([4, 3, 500, 500]) \n",
      "y: torch.Size([4])\n"
     ]
    }
   ],
   "source": [
    "X, y = next(train_iter)\n",
    "print(\"X: {} \\ny: {}\".format(X.shape,y.shape))"
   ]
  },
  {
   "cell_type": "code",
   "execution_count": 38,
   "metadata": {},
   "outputs": [
    {
     "data": {
      "text/plain": [
       "Dataset ImageFolder\n",
       "    Number of datapoints: 50\n",
       "    Root Location: /home/wubbalubba/DL/Datasets/train\n",
       "    Transforms (if any): Compose(\n",
       "                             Resize(size=600, interpolation=PIL.Image.BILINEAR)\n",
       "                             RandomCrop(size=(500, 500), padding=None)\n",
       "                             ToTensor()\n",
       "                             Normalize(mean=[0.485, 0.456, 0.406], std=[0.229, 0.224, 0.225])\n",
       "                         )\n",
       "    Target Transforms (if any): None"
      ]
     },
     "execution_count": 38,
     "metadata": {},
     "output_type": "execute_result"
    }
   ],
   "source": [
    "train_dl.dataset"
   ]
  },
  {
   "cell_type": "code",
   "execution_count": 39,
   "metadata": {},
   "outputs": [],
   "source": [
    "N_epochs = 27"
   ]
  },
  {
   "cell_type": "code",
   "execution_count": 40,
   "metadata": {},
   "outputs": [],
   "source": [
    "class Net1(nn.Module):\n",
    "    def __init__(self):\n",
    "        super(Net1, self).__init__()\n",
    "        self.conv1 = nn.Conv2d(3, 6, 5)\n",
    "        self.pool = nn.MaxPool2d(2, 2)\n",
    "        self.conv2 = nn.Conv2d(6, 16, 5)\n",
    "        self.fc1 = nn.Linear(238144, 120)\n",
    "        self.fc2 = nn.Linear(120, 84)\n",
    "        self.fc3 = nn.Linear(84, 2)\n",
    "        \n",
    "        \n",
    "    def forward(self, x):\n",
    "        x = self.pool(F.relu(self.conv1(x)))\n",
    "        x = self.pool(F.relu(self.conv2(x)))\n",
    "        x = x.view(-1, 238144)\n",
    "        x = F.relu(self.fc1(x))\n",
    "        x = F.relu(self.fc2(x))\n",
    "        x = self.fc3(x)\n",
    "        x = F.log_softmax(x,dim=1)\n",
    "        return x"
   ]
  },
  {
   "cell_type": "code",
   "execution_count": 41,
   "metadata": {},
   "outputs": [],
   "source": [
    "class Net2(nn.Module):\n",
    "    def __init__(self):\n",
    "        super(Net2, self).__init__()\n",
    "        self.conv1 = nn.Conv2d(3, 6, 5)\n",
    "        self.pool = nn.MaxPool2d(2, 2)\n",
    "        self.conv2 = nn.Conv2d(6, 16, 5)\n",
    "        self.conv3 = nn.Conv2d(16, 20, 3)\n",
    "        self.conv4 = nn.Conv2d(20, 10, 3)\n",
    "        self.fc1 = nn.Linear(10*29*29, 120)\n",
    "        self.fc2 = nn.Linear(120, 84)\n",
    "        self.fc3 = nn.Linear(84, 2)\n",
    "        \n",
    "\n",
    "    def forward(self, x):\n",
    "        x = self.pool(F.relu(self.conv1(x)))\n",
    "        x = self.pool(F.relu(self.conv2(x)))\n",
    "        x = self.pool(F.relu(self.conv3(x)))\n",
    "        x = self.pool(F.relu(self.conv4(x)))\n",
    "        \n",
    "        x = x.view(-1, 10*29*29)\n",
    "        x = F.relu(self.fc1(x))\n",
    "        x = F.relu(self.fc2(x))\n",
    "        x = self.fc3(x)\n",
    "        x = F.log_softmax(x,dim=1)\n",
    "        return x\n",
    "\n",
    "\n",
    "net = Net2()"
   ]
  },
  {
   "cell_type": "code",
   "execution_count": 42,
   "metadata": {},
   "outputs": [
    {
     "data": {
      "text/plain": [
       "Net2(\n",
       "  (conv1): Conv2d(3, 6, kernel_size=(5, 5), stride=(1, 1))\n",
       "  (pool): MaxPool2d(kernel_size=2, stride=2, padding=0, dilation=1, ceil_mode=False)\n",
       "  (conv2): Conv2d(6, 16, kernel_size=(5, 5), stride=(1, 1))\n",
       "  (conv3): Conv2d(16, 20, kernel_size=(3, 3), stride=(1, 1))\n",
       "  (conv4): Conv2d(20, 10, kernel_size=(3, 3), stride=(1, 1))\n",
       "  (fc1): Linear(in_features=8410, out_features=120, bias=True)\n",
       "  (fc2): Linear(in_features=120, out_features=84, bias=True)\n",
       "  (fc3): Linear(in_features=84, out_features=2, bias=True)\n",
       ")"
      ]
     },
     "execution_count": 42,
     "metadata": {},
     "output_type": "execute_result"
    }
   ],
   "source": [
    "net"
   ]
  },
  {
   "cell_type": "code",
   "execution_count": 15,
   "metadata": {},
   "outputs": [],
   "source": [
    "criterion = nn.NLLLoss()\n",
    "\n",
    "optimizer = torch.optim.Adam(\n",
    "    net.parameters(),\n",
    "    lr=0.001,\n",
    "    # momentum=0.9,\n",
    ")"
   ]
  },
  {
   "cell_type": "code",
   "execution_count": 16,
   "metadata": {},
   "outputs": [
    {
     "name": "stdout",
     "output_type": "stream",
     "text": [
      "Epoch 1/27\n",
      "  Train Loss: 0.5834180700778961\n",
      "  Train Acc:  0.78\n",
      "  Valid Loss: 0.870061723391215\n",
      "  Valid Acc:  0.7\n",
      "Epoch 2/27\n",
      "  Train Loss: 0.40186423659324644\n",
      "  Train Acc:  0.82\n",
      "  Valid Loss: 0.41027634739875796\n",
      "  Valid Acc:  0.7\n",
      "Epoch 3/27\n",
      "  Train Loss: 0.2764902663230896\n",
      "  Train Acc:  0.82\n",
      "  Valid Loss: 0.31925576031208036\n",
      "  Valid Acc:  0.7\n",
      "Epoch 4/27\n",
      "  Train Loss: 0.24933145403862\n",
      "  Train Acc:  0.86\n",
      "  Valid Loss: 0.24345027804374694\n",
      "  Valid Acc:  0.9\n",
      "Epoch 5/27\n",
      "  Train Loss: 0.2244319874048233\n",
      "  Train Acc:  0.94\n",
      "  Valid Loss: 0.23296924034754435\n",
      "  Valid Acc:  0.9666666666666667\n",
      "Epoch 6/27\n",
      "  Train Loss: 0.15476177215576173\n",
      "  Train Acc:  0.94\n",
      "  Valid Loss: 0.18154163360595704\n",
      "  Valid Acc:  0.9333333333333333\n",
      "Epoch 7/27\n",
      "  Train Loss: 0.13498144149780272\n",
      "  Train Acc:  0.96\n",
      "  Valid Loss: 0.18716484904289246\n",
      "  Valid Acc:  0.9666666666666667\n",
      "Epoch 8/27\n",
      "  Train Loss: 0.13651977956295014\n",
      "  Train Acc:  0.92\n",
      "  Valid Loss: 0.12316915194193521\n",
      "  Valid Acc:  0.9333333333333333\n",
      "Epoch 9/27\n",
      "  Train Loss: 0.1698412835597992\n",
      "  Train Acc:  0.92\n",
      "  Valid Loss: 0.1592215855916341\n",
      "  Valid Acc:  0.9333333333333333\n",
      "Epoch 10/27\n",
      "  Train Loss: 0.08983995437622071\n",
      "  Train Acc:  0.98\n",
      "  Valid Loss: 0.1453224798043569\n",
      "  Valid Acc:  0.9333333333333333\n",
      "Epoch 11/27\n",
      "  Train Loss: 0.10021499454975129\n",
      "  Train Acc:  0.96\n",
      "  Valid Loss: 0.14568291306495668\n",
      "  Valid Acc:  0.9666666666666667\n",
      "Epoch 12/27\n",
      "  Train Loss: 0.15922570049762727\n",
      "  Train Acc:  0.94\n",
      "  Valid Loss: 0.10209046502908072\n",
      "  Valid Acc:  1.0\n",
      "Epoch 13/27\n",
      "  Train Loss: 0.13776653110980988\n",
      "  Train Acc:  0.94\n",
      "  Valid Loss: 0.11818143924077353\n",
      "  Valid Acc:  0.9333333333333333\n",
      "Epoch 14/27\n",
      "  Train Loss: 0.13298835396766662\n",
      "  Train Acc:  0.94\n",
      "  Valid Loss: 0.13968160549799602\n",
      "  Valid Acc:  0.9666666666666667\n",
      "Epoch 15/27\n",
      "  Train Loss: 0.16654944479465483\n",
      "  Train Acc:  0.92\n",
      "  Valid Loss: 0.13564758201440175\n",
      "  Valid Acc:  0.9666666666666667\n",
      "Epoch 16/27\n",
      "  Train Loss: 0.3468255686759949\n",
      "  Train Acc:  0.88\n",
      "  Valid Loss: 0.16387439966201783\n",
      "  Valid Acc:  0.9333333333333333\n",
      "Epoch 17/27\n",
      "  Train Loss: 0.15571364879608154\n",
      "  Train Acc:  0.92\n",
      "  Valid Loss: 0.17824084758758546\n",
      "  Valid Acc:  0.9666666666666667\n",
      "Epoch 18/27\n",
      "  Train Loss: 0.1431050831079483\n",
      "  Train Acc:  0.94\n",
      "  Valid Loss: 0.1306383172671\n",
      "  Valid Acc:  0.9666666666666667\n",
      "Epoch 19/27\n",
      "  Train Loss: 0.17867526292800903\n",
      "  Train Acc:  0.92\n",
      "  Valid Loss: 0.12541005114714304\n",
      "  Valid Acc:  0.9333333333333333\n",
      "Epoch 20/27\n",
      "  Train Loss: 0.140909059047699\n",
      "  Train Acc:  0.94\n",
      "  Valid Loss: 0.10886314709981283\n",
      "  Valid Acc:  1.0\n",
      "Epoch 21/27\n",
      "  Train Loss: 0.20043906569480896\n",
      "  Train Acc:  0.94\n",
      "  Valid Loss: 0.1337197681268056\n",
      "  Valid Acc:  0.9333333333333333\n",
      "Epoch 22/27\n",
      "  Train Loss: 0.1218360984325409\n",
      "  Train Acc:  0.94\n",
      "  Valid Loss: 0.12071540355682372\n",
      "  Valid Acc:  1.0\n",
      "Epoch 23/27\n",
      "  Train Loss: 0.13335355937480928\n",
      "  Train Acc:  0.94\n",
      "  Valid Loss: 0.1164776066939036\n",
      "  Valid Acc:  0.9333333333333333\n",
      "Epoch 24/27\n",
      "  Train Loss: 0.16312754392623902\n",
      "  Train Acc:  0.9\n",
      "  Valid Loss: 0.12134706775347391\n",
      "  Valid Acc:  1.0\n",
      "Epoch 25/27\n",
      "  Train Loss: 0.10833513736724854\n",
      "  Train Acc:  0.96\n",
      "  Valid Loss: 0.08123899300893148\n",
      "  Valid Acc:  1.0\n",
      "Epoch 26/27\n",
      "  Train Loss: 0.0786396586894989\n",
      "  Train Acc:  0.96\n",
      "  Valid Loss: 0.04737421671549479\n",
      "  Valid Acc:  0.9666666666666667\n",
      "Epoch 27/27\n",
      "  Train Loss: 0.25529496908187865\n",
      "  Train Acc:  0.9\n",
      "  Valid Loss: 0.16434927980105082\n",
      "  Valid Acc:  0.8666666666666667\n"
     ]
    }
   ],
   "source": [
    "train_loss = []\n",
    "valid_loss = []\n",
    "for epoch in range(N_epochs):\n",
    "    print(f\"Epoch {epoch+1}/{N_epochs}\")\n",
    "    \n",
    "    # Train\n",
    "    net.train()  # IMPORTANT\n",
    "    \n",
    "    running_loss, correct = 0.0, 0\n",
    "    for X, y in train_dl:\n",
    "        \n",
    "        \n",
    "        optimizer.zero_grad()\n",
    "        y_ = net(X)\n",
    "        loss = criterion(y_, y)\n",
    "        loss.backward()\n",
    "        optimizer.step()\n",
    "        \n",
    "        # Statistics\n",
    "        #print(f\"    batch loss: {loss.item():0.3f}\")\n",
    "        _, y_label_ = torch.max(torch.exp(y_),1)\n",
    "        correct += (y_label_ == y).sum().item()\n",
    "        running_loss += loss.item() * X.shape[0]\n",
    "        \n",
    "        \n",
    "    print(f\"  Train Loss: {running_loss / len(train_dl.dataset)}\")\n",
    "    print(f\"  Train Acc:  {correct / len(train_dl.dataset)}\")\n",
    "    train_loss.append([epoch,running_loss / len(train_dl.dataset)])\n",
    "    \n",
    "        \n",
    "    \n",
    "    \n",
    "    # Eval\n",
    "    net.eval()  # IMPORTANT\n",
    "    \n",
    "    running_loss, correct = 0.0, 0\n",
    "    with torch.no_grad():  # IMPORTANT\n",
    "        for X, y in test_dl:\n",
    "            \n",
    "            y_ = net(X)\n",
    "        \n",
    "            # Statistics\n",
    "            _, y_label_ = torch.max(y_, 1)\n",
    "            correct += (y_label_ == y).sum().item()\n",
    "            loss = criterion(y_, y)\n",
    "            running_loss += loss.item() * X.shape[0]\n",
    "            \n",
    "            \n",
    "    \n",
    "    print(f\"  Valid Loss: {running_loss / len(test_dl.dataset)}\")\n",
    "    print(f\"  Valid Acc:  {correct / len(test_dl.dataset)}\")\n",
    "    valid_loss.append([epoch,running_loss / len(test_dl.dataset)])\n",
    "    \n",
    "    \n",
    "    "
   ]
  },
  {
   "cell_type": "code",
   "execution_count": 17,
   "metadata": {},
   "outputs": [
    {
     "name": "stdout",
     "output_type": "stream",
     "text": [
      "F1-score micro: 0.8666666666666667\n",
      "F1-score macro: 0.813664596273292\n",
      "F1-score weighted: 0.853416149068323\n",
      "  Valid Loss: 0.1643492728471756\n",
      "  Valid Acc:  0.8666666666666667\n",
      "tensor([0, 0, 0, 0, 0, 0, 0, 0, 0, 1, 1, 1, 1, 1, 1, 1, 1, 1, 1, 1, 1, 1, 1, 1,\n",
      "        1, 1, 1, 1, 1, 1])\n",
      "tensor([1, 0, 1, 1, 1, 0, 0, 0, 0, 1, 1, 1, 1, 1, 1, 1, 1, 1, 1, 1, 1, 1, 1, 1,\n",
      "        1, 1, 1, 1, 1, 1])\n"
     ]
    }
   ],
   "source": [
    "test_dl = DataLoader(test_ds, batch_size = len(test_ds), shuffle = False)\n",
    "with torch.no_grad():# IMPORTANT\n",
    "    running_loss, correct = 0.0, 0\n",
    "    for X, y in test_dl:\n",
    "            \n",
    "            y_ = net(X)\n",
    "        \n",
    "            # Statistics\n",
    "            _, y_label_ = torch.max(y_, 1)\n",
    "            correct += (y_label_ == y).sum().item()\n",
    "            loss = criterion(y_, y)\n",
    "            running_loss += loss.item() * X.shape[0]\n",
    "            \n",
    "    F1ScoreMicro = f1_score(y, y_label_, average=\"micro\")\n",
    "    F1ScoreMacro = f1_score(y, y_label_, average=\"macro\")\n",
    "    F1ScoreWeighted = f1_score(y, y_label_, average=\"weighted\")\n",
    "    print(f\"F1-score micro: {F1ScoreMicro}\")\n",
    "    print(f\"F1-score macro: {F1ScoreMacro}\")\n",
    "    print(f\"F1-score weighted: {F1ScoreWeighted}\")\n",
    "    print(f\"  Valid Loss: {running_loss / len(test_dl.dataset)}\")\n",
    "    print(f\"  Valid Acc:  {correct / len(test_dl.dataset)}\")\n",
    "    print(y)\n",
    "    print(y_label_)"
   ]
  },
  {
   "cell_type": "code",
   "execution_count": 18,
   "metadata": {},
   "outputs": [],
   "source": [
    "test_dl = DataLoader(test_ds, batch_size = 1, shuffle = False)\n",
    "    \n",
    "    "
   ]
  },
  {
   "cell_type": "code",
   "execution_count": 19,
   "metadata": {},
   "outputs": [
    {
     "name": "stdout",
     "output_type": "stream",
     "text": [
      "Epoch 1/27\n",
      "  Train Loss: 10.92179069519043\n",
      "  Train Acc:  0.82\n",
      "  Valid Loss: 1.9381205221017201\n",
      "  Valid Acc:  0.7\n",
      "Epoch 2/27\n",
      "  Train Loss: 0.7246191310882568\n",
      "  Train Acc:  0.82\n",
      "  Valid Loss: 0.6749918699264527\n",
      "  Valid Acc:  0.4666666666666667\n",
      "Epoch 3/27\n",
      "  Train Loss: 0.714567773938179\n",
      "  Train Acc:  0.68\n",
      "  Valid Loss: 0.4599911212921143\n",
      "  Valid Acc:  0.8\n",
      "Epoch 4/27\n",
      "  Train Loss: 0.40412683129310606\n",
      "  Train Acc:  0.8\n",
      "  Valid Loss: 0.3310742795467377\n",
      "  Valid Acc:  0.7\n",
      "Epoch 5/27\n",
      "  Train Loss: 0.2642049670219421\n",
      "  Train Acc:  0.82\n",
      "  Valid Loss: 0.2860520601272583\n",
      "  Valid Acc:  0.7\n",
      "Epoch 6/27\n",
      "  Train Loss: 0.26898628115653994\n",
      "  Train Acc:  0.82\n",
      "  Valid Loss: 0.2730376958847046\n",
      "  Valid Acc:  0.7\n",
      "Epoch 7/27\n",
      "  Train Loss: 0.4846532356739044\n",
      "  Train Acc:  0.82\n",
      "  Valid Loss: 0.22337884306907654\n",
      "  Valid Acc:  0.9333333333333333\n",
      "Epoch 8/27\n",
      "  Train Loss: 0.21322089314460754\n",
      "  Train Acc:  0.8\n",
      "  Valid Loss: 0.2765329897403717\n",
      "  Valid Acc:  0.7\n",
      "Epoch 9/27\n",
      "  Train Loss: 0.3544940042495728\n",
      "  Train Acc:  0.82\n",
      "  Valid Loss: 0.2778446912765503\n",
      "  Valid Acc:  0.7333333333333333\n",
      "Epoch 10/27\n",
      "  Train Loss: 0.2231303173303604\n",
      "  Train Acc:  0.82\n",
      "  Valid Loss: 0.25096604029337566\n",
      "  Valid Acc:  0.7666666666666667\n",
      "Epoch 11/27\n",
      "  Train Loss: 0.1617133891582489\n",
      "  Train Acc:  0.94\n",
      "  Valid Loss: 0.2461280127366384\n",
      "  Valid Acc:  0.7666666666666667\n",
      "Epoch 12/27\n",
      "  Train Loss: 0.1859178864955902\n",
      "  Train Acc:  0.88\n",
      "  Valid Loss: 0.24781357447306315\n",
      "  Valid Acc:  0.7333333333333333\n",
      "Epoch 13/27\n",
      "  Train Loss: 0.18148184418678284\n",
      "  Train Acc:  0.84\n",
      "  Valid Loss: 0.22972259024779002\n",
      "  Valid Acc:  0.8\n",
      "Epoch 14/27\n",
      "  Train Loss: 0.19814635932445526\n",
      "  Train Acc:  0.96\n",
      "  Valid Loss: 0.11343785027662913\n",
      "  Valid Acc:  0.9666666666666667\n",
      "Epoch 15/27\n",
      "  Train Loss: 0.16185957670211792\n",
      "  Train Acc:  0.98\n",
      "  Valid Loss: 0.222205513715744\n",
      "  Valid Acc:  0.9333333333333333\n",
      "Epoch 16/27\n",
      "  Train Loss: 0.15743951201438905\n",
      "  Train Acc:  0.96\n",
      "  Valid Loss: 0.20355136593182882\n",
      "  Valid Acc:  0.9666666666666667\n",
      "Epoch 17/27\n",
      "  Train Loss: 0.16128844141960144\n",
      "  Train Acc:  0.96\n",
      "  Valid Loss: 0.15906230807304383\n",
      "  Valid Acc:  0.9666666666666667\n",
      "Epoch 18/27\n",
      "  Train Loss: 0.16266183733940123\n",
      "  Train Acc:  0.92\n",
      "  Valid Loss: 0.20450657208760578\n",
      "  Valid Acc:  0.9333333333333333\n",
      "Epoch 19/27\n",
      "  Train Loss: 0.18882115721702575\n",
      "  Train Acc:  0.86\n",
      "  Valid Loss: 0.21068006058533986\n",
      "  Valid Acc:  0.9333333333333333\n",
      "Epoch 20/27\n",
      "  Train Loss: 0.14416324079036713\n",
      "  Train Acc:  0.96\n",
      "  Valid Loss: 0.15708934168020885\n",
      "  Valid Acc:  0.9333333333333333\n",
      "Epoch 21/27\n",
      "  Train Loss: 0.17167940974235535\n",
      "  Train Acc:  0.92\n",
      "  Valid Loss: 0.18668026129404705\n",
      "  Valid Acc:  1.0\n",
      "Epoch 22/27\n",
      "  Train Loss: 0.11755042672157287\n",
      "  Train Acc:  0.96\n",
      "  Valid Loss: 0.13088144063949586\n",
      "  Valid Acc:  0.9666666666666667\n",
      "Epoch 23/27\n",
      "  Train Loss: 0.18307055532932281\n",
      "  Train Acc:  0.94\n",
      "  Valid Loss: 0.18744353751341503\n",
      "  Valid Acc:  1.0\n",
      "Epoch 24/27\n",
      "  Train Loss: 0.16946914732456209\n",
      "  Train Acc:  0.96\n",
      "  Valid Loss: 0.17940241893132527\n",
      "  Valid Acc:  1.0\n",
      "Epoch 25/27\n",
      "  Train Loss: 0.1743454909324646\n",
      "  Train Acc:  0.92\n",
      "  Valid Loss: 0.18384274939695994\n",
      "  Valid Acc:  1.0\n",
      "Epoch 26/27\n",
      "  Train Loss: 0.182899911403656\n",
      "  Train Acc:  0.94\n",
      "  Valid Loss: 0.19156948526700338\n",
      "  Valid Acc:  1.0\n",
      "Epoch 27/27\n",
      "  Train Loss: 0.6144009411334992\n",
      "  Train Acc:  0.94\n",
      "  Valid Loss: 0.20497623980045318\n",
      "  Valid Acc:  1.0\n"
     ]
    }
   ],
   "source": [
    "net1 = Net1()\n",
    "train_loss1 = []\n",
    "valid_loss1 = []\n",
    "\n",
    "criterion = nn.NLLLoss()\n",
    "\n",
    "optimizer = torch.optim.Adam(\n",
    "    net1.parameters(),\n",
    "    lr=0.001,\n",
    "    # momentum=0.9,\n",
    ")\n",
    "\n",
    "\n",
    "for epoch in range(N_epochs):\n",
    "    print(f\"Epoch {epoch+1}/{N_epochs}\")\n",
    "    \n",
    "    # Train\n",
    "    net1.train()  # IMPORTANT\n",
    "    \n",
    "    running_loss, correct = 0.0, 0\n",
    "    for X, y in train_dl:\n",
    "        \n",
    "        \n",
    "        optimizer.zero_grad()\n",
    "        y_ = net1(X)\n",
    "        loss = criterion(y_, y)\n",
    "        loss.backward()\n",
    "        optimizer.step()\n",
    "        \n",
    "        # Statistics\n",
    "        #print(f\"    batch loss: {loss.item():0.3f}\")\n",
    "        _, y_label_ = torch.max(torch.exp(y_),1)\n",
    "        correct += (y_label_ == y).sum().item()\n",
    "        running_loss += loss.item() * X.shape[0]\n",
    "        \n",
    "        \n",
    "    print(f\"  Train Loss: {running_loss / len(train_dl.dataset)}\")\n",
    "    print(f\"  Train Acc:  {correct / len(train_dl.dataset)}\")\n",
    "    train_loss1.append([epoch,running_loss / len(train_dl.dataset)])\n",
    "    \n",
    "        \n",
    "    \n",
    "    \n",
    "    # Eval\n",
    "    net.eval()  # IMPORTANT\n",
    "    \n",
    "    running_loss, correct = 0.0, 0\n",
    "    with torch.no_grad():  # IMPORTANT\n",
    "        for X, y in test_dl:\n",
    "            \n",
    "            y_ = net1(X)\n",
    "        \n",
    "            # Statistics\n",
    "            _, y_label_ = torch.max(y_, 1)\n",
    "            correct += (y_label_ == y).sum().item()\n",
    "            loss = criterion(y_, y)\n",
    "            running_loss += loss.item() * X.shape[0]\n",
    "            \n",
    "            \n",
    "    \n",
    "    print(f\"  Valid Loss: {running_loss / len(test_dl.dataset)}\")\n",
    "    print(f\"  Valid Acc:  {correct / len(test_dl.dataset)}\")\n",
    "    valid_loss1.append([epoch,running_loss / len(test_dl.dataset)])\n",
    "    \n",
    "    \n",
    "    "
   ]
  },
  {
   "cell_type": "code",
   "execution_count": 20,
   "metadata": {},
   "outputs": [],
   "source": [
    "trl = np.asarray(train_loss)\n",
    "tsl = np.asarray(valid_loss)\n",
    "trl1 = np.asarray(train_loss1)\n",
    "tsl1 = np.asarray(valid_loss1)"
   ]
  },
  {
   "cell_type": "code",
   "execution_count": 21,
   "metadata": {},
   "outputs": [
    {
     "data": {
      "text/plain": [
       "[<matplotlib.lines.Line2D at 0x7f0a8a5557b8>,\n",
       " <matplotlib.lines.Line2D at 0x7f0a8a555908>]"
      ]
     },
     "execution_count": 21,
     "metadata": {},
     "output_type": "execute_result"
    },
    {
     "data": {
      "image/png": "[encoded data removed]",
      "text/plain": [
       "<Figure size 432x288 with 1 Axes>"
      ]
     },
     "metadata": {},
     "output_type": "display_data"
    }
   ],
   "source": [
    "plt.plot(trl[:,0],trl[:,1],tsl[:,0],tsl[:,1])"
   ]
  },
  {
   "cell_type": "code",
   "execution_count": 22,
   "metadata": {},
   "outputs": [
    {
     "data": {
      "text/plain": [
       "[<matplotlib.lines.Line2D at 0x7f0a89693780>,\n",
       " <matplotlib.lines.Line2D at 0x7f0a896938d0>]"
      ]
     },
     "execution_count": 22,
     "metadata": {},
     "output_type": "execute_result"
    },
    {
     "data": {
      "image/png": "[encoded data removed]",
      "text/plain": [
       "<Figure size 432x288 with 1 Axes>"
      ]
     },
     "metadata": {},
     "output_type": "display_data"
    }
   ],
   "source": [
    "plt.plot(trl1[:,0],trl1[:,1],tsl1[:,0],tsl1[:,1])"
   ]
  },
  {
   "cell_type": "code",
   "execution_count": 23,
   "metadata": {},
   "outputs": [],
   "source": [
    "test_dl = DataLoader(test_ds, batch_size = len(test_ds), shuffle = False)"
   ]
  },
  {
   "cell_type": "code",
   "execution_count": 24,
   "metadata": {},
   "outputs": [
    {
     "name": "stdout",
     "output_type": "stream",
     "text": [
      "F1-score micro: 1.0\n",
      "F1-score macro: 1.0\n",
      "F1-score weighted: 1.0\n",
      "  Valid Loss: 0.20497624576091766\n",
      "  Valid Acc:  1.0\n",
      "tensor([0, 0, 0, 0, 0, 0, 0, 0, 0, 1, 1, 1, 1, 1, 1, 1, 1, 1, 1, 1, 1, 1, 1, 1,\n",
      "        1, 1, 1, 1, 1, 1])\n",
      "tensor([0, 0, 0, 0, 0, 0, 0, 0, 0, 1, 1, 1, 1, 1, 1, 1, 1, 1, 1, 1, 1, 1, 1, 1,\n",
      "        1, 1, 1, 1, 1, 1])\n"
     ]
    }
   ],
   "source": [
    "with torch.no_grad():# IMPORTANT\n",
    "    running_loss, correct = 0.0, 0\n",
    "    for X, y in test_dl:\n",
    "            \n",
    "            y_ = net1(X)\n",
    "        \n",
    "            # Statistics\n",
    "            _, y_label_ = torch.max(y_, 1)\n",
    "            correct += (y_label_ == y).sum().item()\n",
    "            loss = criterion(y_, y)\n",
    "            running_loss += loss.item() * X.shape[0]\n",
    "            \n",
    "    F1ScoreMicro = f1_score(y, y_label_, average=\"micro\")\n",
    "    F1ScoreMacro = f1_score(y, y_label_, average=\"macro\")\n",
    "    F1ScoreWeighted = f1_score(y, y_label_, average=\"weighted\")\n",
    "    print(f\"F1-score micro: {F1ScoreMicro}\")\n",
    "    print(f\"F1-score macro: {F1ScoreMacro}\")\n",
    "    print(f\"F1-score weighted: {F1ScoreWeighted}\")\n",
    "    print(f\"  Valid Loss: {running_loss / len(test_dl.dataset)}\")\n",
    "    print(f\"  Valid Acc:  {correct / len(test_dl.dataset)}\")\n",
    "    print(y)\n",
    "    print(y_label_)"
   ]
  },
  {
   "cell_type": "code",
   "execution_count": 25,
   "metadata": {},
   "outputs": [
    {
     "data": {
      "text/plain": [
       "8410"
      ]
     },
     "execution_count": 25,
     "metadata": {},
     "output_type": "execute_result"
    }
   ],
   "source": [
    "10*29*29"
   ]
  },
  {
   "cell_type": "code",
   "execution_count": 26,
   "metadata": {},
   "outputs": [
    {
     "data": {
      "text/plain": [
       "50"
      ]
     },
     "execution_count": 26,
     "metadata": {},
     "output_type": "execute_result"
    }
   ],
   "source": [
    "len(train_ds)"
   ]
  },
  {
   "cell_type": "code",
   "execution_count": 27,
   "metadata": {},
   "outputs": [
    {
     "data": {
      "text/plain": [
       "30"
      ]
     },
     "execution_count": 27,
     "metadata": {},
     "output_type": "execute_result"
    }
   ],
   "source": [
    "len(test_ds)"
   ]
  },
  {
   "cell_type": "code",
   "execution_count": null,
   "metadata": {},
   "outputs": [],
   "source": []
  }
 ],
 "metadata": {
  "kernelspec": {
   "display_name": "Python 3",
   "language": "python",
   "name": "python3"
  },
  "language_info": {
   "codemirror_mode": {
    "name": "ipython",
    "version": 3
   },
   "file_extension": ".py",
   "mimetype": "text/x-python",
   "name": "python",
   "nbconvert_exporter": "python",
   "pygments_lexer": "ipython3",
   "version": "3.6.5"
  }
 },
 "nbformat": 4,
 "nbformat_minor": 2
}
