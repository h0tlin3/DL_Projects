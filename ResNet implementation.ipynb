{
 "cells": [
  {
   "cell_type": "code",
   "execution_count": 1,
   "metadata": {},
   "outputs": [],
   "source": [
    "import torch\n",
    "from torch import nn\n",
    "from torch import optim\n",
    "import torch.nn.functional as F\n",
    "from torchvision import datasets, transforms, models\n",
    "import numpy as np\n",
    "import matplotlib.pyplot as plt\n",
    "from sklearn.metrics import f1_score"
   ]
  },
  {
   "cell_type": "code",
   "execution_count": 2,
   "metadata": {},
   "outputs": [],
   "source": [
    "data_dir = \"/home/wubbalubba/DL/Datasets\"\n",
    "\n",
    "train_dir = data_dir + \"/train\"\n",
    "dev_dir = data_dir + \"/dev\"\n",
    "test_dir = data_dir + \"/test\""
   ]
  },
  {
   "cell_type": "code",
   "execution_count": 3,
   "metadata": {},
   "outputs": [],
   "source": [
    "train_transforms = transforms.Compose([\n",
    "    transforms.Resize(500),\n",
    "    transforms.RandomCrop(224),\n",
    "    transforms.ToTensor(),\n",
    "    transforms.Normalize([0.485,0.456,0.406],\n",
    "                         [0.229,0.224,0.225])\n",
    "])\n",
    "\n",
    "dev_transforms = transforms.Compose([\n",
    "    transforms.Resize(500),\n",
    "    transforms.CenterCrop(224),\n",
    "    transforms.ToTensor(),\n",
    "    transforms.Normalize([0.485,0.456,0.406],\n",
    "                         [0.229,0.224,0.225])\n",
    "])\n",
    "\n",
    "test_transforms = transforms.Compose([\n",
    "    transforms.Resize(500),\n",
    "    transforms.CenterCrop(224),\n",
    "    transforms.ToTensor(),\n",
    "    transforms.Normalize([0.485,0.456,0.406],\n",
    "                         [0.229,0.224,0.225])\n",
    "])\n",
    "\n",
    "check_transforms = transforms.Compose([\n",
    "    transforms.Resize(400),\n",
    "])"
   ]
  },
  {
   "cell_type": "code",
   "execution_count": 4,
   "metadata": {},
   "outputs": [],
   "source": [
    "train_ds = datasets.ImageFolder(train_dir,transform=train_transforms)\n",
    "\n",
    "#dev_ds = datasets.ImageFolder(dev_dir,transform=dev_transforms)\n",
    "\n",
    "test_ds = datasets.ImageFolder(test_dir,transform=test_transforms)\n",
    "\n",
    "check_ds = datasets.ImageFolder(test_dir, transform=check_transforms)"
   ]
  },
  {
   "cell_type": "code",
   "execution_count": 5,
   "metadata": {},
   "outputs": [],
   "source": [
    "def make_weights_for_balanced_classes(images, nclasses):                        \n",
    "    count = [0] * nclasses                                                      \n",
    "    for item in images:                                                         \n",
    "        count[item[1]] += 1                                                     \n",
    "    weight_per_class = [0.] * nclasses                                      \n",
    "    N = float(sum(count))                                                   \n",
    "    for i in range(nclasses):                                                   \n",
    "        weight_per_class[i] = N/float(count[i])                                 \n",
    "    weight = [0] * len(images)                                              \n",
    "    for idx, val in enumerate(images):                                          \n",
    "        weight[idx] = weight_per_class[val[1]]                                  \n",
    "    return weight  "
   ]
  },
  {
   "cell_type": "code",
   "execution_count": 6,
   "metadata": {},
   "outputs": [
    {
     "name": "stderr",
     "output_type": "stream",
     "text": [
      "/home/wubbalubba/anaconda3/lib/python3.6/site-packages/torch/utils/data/sampler.py:115: UserWarning: To copy construct from a tensor, it is recommended to use sourceTensor.clone().detach() or sourceTensor.clone().detach().requires_grad_(True), rather than torch.tensor(sourceTensor).\n",
      "  self.weights = torch.tensor(weights, dtype=torch.double)\n"
     ]
    }
   ],
   "source": [
    "weights = make_weights_for_balanced_classes(train_ds.imgs, len(train_ds.classes))                                                                \n",
    "weights = torch.DoubleTensor(weights)                                       \n",
    "sampler = torch.utils.data.sampler.WeightedRandomSampler(weights, len(weights))                     \n",
    "                                                                                \n",
    "train_dl = torch.utils.data.DataLoader(train_ds, batch_size=4, shuffle = False, sampler = sampler) "
   ]
  },
  {
   "cell_type": "code",
   "execution_count": 7,
   "metadata": {},
   "outputs": [],
   "source": [
    "from torch.utils.data import DataLoader"
   ]
  },
  {
   "cell_type": "code",
   "execution_count": 8,
   "metadata": {},
   "outputs": [],
   "source": [
    "train_dl = DataLoader(train_ds, batch_size = 4, shuffle = True)\n",
    "\n",
    "#dev_dl = DataLoader(dev_ds, batch_size = 2, shuffle = False)\n",
    "\n",
    "test_dl = DataLoader(test_ds, batch_size = 1, shuffle = False)\n",
    "\n",
    "check_dl = DataLoader(check_ds, batch_size = 1, shuffle = False)"
   ]
  },
  {
   "cell_type": "code",
   "execution_count": 9,
   "metadata": {},
   "outputs": [
    {
     "name": "stdout",
     "output_type": "stream",
     "text": [
      "X: torch.Size([50, 3, 224, 224]) \n",
      "y: torch.Size([50])\n"
     ]
    },
    {
     "data": {
      "text/plain": [
       "Dataset ImageFolder\n",
       "    Number of datapoints: 50\n",
       "    Root Location: /home/wubbalubba/DL/Datasets/train\n",
       "    Transforms (if any): Compose(\n",
       "                             Resize(size=500, interpolation=PIL.Image.BILINEAR)\n",
       "                             RandomCrop(size=(224, 224), padding=None)\n",
       "                             ToTensor()\n",
       "                             Normalize(mean=[0.485, 0.456, 0.406], std=[0.229, 0.224, 0.225])\n",
       "                         )\n",
       "    Target Transforms (if any): None"
      ]
     },
     "execution_count": 9,
     "metadata": {},
     "output_type": "execute_result"
    }
   ],
   "source": [
    "train_iter = iter(train_dl)\n",
    "X, y = next(train_iter)\n",
    "print(\"X: {} \\ny: {}\".format(X.shape,y.shape))\n",
    "train_dl.dataset"
   ]
  },
  {
   "cell_type": "code",
   "execution_count": 10,
   "metadata": {},
   "outputs": [],
   "source": [
    "N_epochs = 10"
   ]
  },
  {
   "cell_type": "code",
   "execution_count": 11,
   "metadata": {},
   "outputs": [],
   "source": [
    "model = models.resnet18(pretrained=True)"
   ]
  },
  {
   "cell_type": "code",
   "execution_count": 12,
   "metadata": {},
   "outputs": [
    {
     "data": {
      "text/plain": [
       "ResNet(\n",
       "  (conv1): Conv2d(3, 64, kernel_size=(7, 7), stride=(2, 2), padding=(3, 3), bias=False)\n",
       "  (bn1): BatchNorm2d(64, eps=1e-05, momentum=0.1, affine=True, track_running_stats=True)\n",
       "  (relu): ReLU(inplace)\n",
       "  (maxpool): MaxPool2d(kernel_size=3, stride=2, padding=1, dilation=1, ceil_mode=False)\n",
       "  (layer1): Sequential(\n",
       "    (0): BasicBlock(\n",
       "      (conv1): Conv2d(64, 64, kernel_size=(3, 3), stride=(1, 1), padding=(1, 1), bias=False)\n",
       "      (bn1): BatchNorm2d(64, eps=1e-05, momentum=0.1, affine=True, track_running_stats=True)\n",
       "      (relu): ReLU(inplace)\n",
       "      (conv2): Conv2d(64, 64, kernel_size=(3, 3), stride=(1, 1), padding=(1, 1), bias=False)\n",
       "      (bn2): BatchNorm2d(64, eps=1e-05, momentum=0.1, affine=True, track_running_stats=True)\n",
       "    )\n",
       "    (1): BasicBlock(\n",
       "      (conv1): Conv2d(64, 64, kernel_size=(3, 3), stride=(1, 1), padding=(1, 1), bias=False)\n",
       "      (bn1): BatchNorm2d(64, eps=1e-05, momentum=0.1, affine=True, track_running_stats=True)\n",
       "      (relu): ReLU(inplace)\n",
       "      (conv2): Conv2d(64, 64, kernel_size=(3, 3), stride=(1, 1), padding=(1, 1), bias=False)\n",
       "      (bn2): BatchNorm2d(64, eps=1e-05, momentum=0.1, affine=True, track_running_stats=True)\n",
       "    )\n",
       "  )\n",
       "  (layer2): Sequential(\n",
       "    (0): BasicBlock(\n",
       "      (conv1): Conv2d(64, 128, kernel_size=(3, 3), stride=(2, 2), padding=(1, 1), bias=False)\n",
       "      (bn1): BatchNorm2d(128, eps=1e-05, momentum=0.1, affine=True, track_running_stats=True)\n",
       "      (relu): ReLU(inplace)\n",
       "      (conv2): Conv2d(128, 128, kernel_size=(3, 3), stride=(1, 1), padding=(1, 1), bias=False)\n",
       "      (bn2): BatchNorm2d(128, eps=1e-05, momentum=0.1, affine=True, track_running_stats=True)\n",
       "      (downsample): Sequential(\n",
       "        (0): Conv2d(64, 128, kernel_size=(1, 1), stride=(2, 2), bias=False)\n",
       "        (1): BatchNorm2d(128, eps=1e-05, momentum=0.1, affine=True, track_running_stats=True)\n",
       "      )\n",
       "    )\n",
       "    (1): BasicBlock(\n",
       "      (conv1): Conv2d(128, 128, kernel_size=(3, 3), stride=(1, 1), padding=(1, 1), bias=False)\n",
       "      (bn1): BatchNorm2d(128, eps=1e-05, momentum=0.1, affine=True, track_running_stats=True)\n",
       "      (relu): ReLU(inplace)\n",
       "      (conv2): Conv2d(128, 128, kernel_size=(3, 3), stride=(1, 1), padding=(1, 1), bias=False)\n",
       "      (bn2): BatchNorm2d(128, eps=1e-05, momentum=0.1, affine=True, track_running_stats=True)\n",
       "    )\n",
       "  )\n",
       "  (layer3): Sequential(\n",
       "    (0): BasicBlock(\n",
       "      (conv1): Conv2d(128, 256, kernel_size=(3, 3), stride=(2, 2), padding=(1, 1), bias=False)\n",
       "      (bn1): BatchNorm2d(256, eps=1e-05, momentum=0.1, affine=True, track_running_stats=True)\n",
       "      (relu): ReLU(inplace)\n",
       "      (conv2): Conv2d(256, 256, kernel_size=(3, 3), stride=(1, 1), padding=(1, 1), bias=False)\n",
       "      (bn2): BatchNorm2d(256, eps=1e-05, momentum=0.1, affine=True, track_running_stats=True)\n",
       "      (downsample): Sequential(\n",
       "        (0): Conv2d(128, 256, kernel_size=(1, 1), stride=(2, 2), bias=False)\n",
       "        (1): BatchNorm2d(256, eps=1e-05, momentum=0.1, affine=True, track_running_stats=True)\n",
       "      )\n",
       "    )\n",
       "    (1): BasicBlock(\n",
       "      (conv1): Conv2d(256, 256, kernel_size=(3, 3), stride=(1, 1), padding=(1, 1), bias=False)\n",
       "      (bn1): BatchNorm2d(256, eps=1e-05, momentum=0.1, affine=True, track_running_stats=True)\n",
       "      (relu): ReLU(inplace)\n",
       "      (conv2): Conv2d(256, 256, kernel_size=(3, 3), stride=(1, 1), padding=(1, 1), bias=False)\n",
       "      (bn2): BatchNorm2d(256, eps=1e-05, momentum=0.1, affine=True, track_running_stats=True)\n",
       "    )\n",
       "  )\n",
       "  (layer4): Sequential(\n",
       "    (0): BasicBlock(\n",
       "      (conv1): Conv2d(256, 512, kernel_size=(3, 3), stride=(2, 2), padding=(1, 1), bias=False)\n",
       "      (bn1): BatchNorm2d(512, eps=1e-05, momentum=0.1, affine=True, track_running_stats=True)\n",
       "      (relu): ReLU(inplace)\n",
       "      (conv2): Conv2d(512, 512, kernel_size=(3, 3), stride=(1, 1), padding=(1, 1), bias=False)\n",
       "      (bn2): BatchNorm2d(512, eps=1e-05, momentum=0.1, affine=True, track_running_stats=True)\n",
       "      (downsample): Sequential(\n",
       "        (0): Conv2d(256, 512, kernel_size=(1, 1), stride=(2, 2), bias=False)\n",
       "        (1): BatchNorm2d(512, eps=1e-05, momentum=0.1, affine=True, track_running_stats=True)\n",
       "      )\n",
       "    )\n",
       "    (1): BasicBlock(\n",
       "      (conv1): Conv2d(512, 512, kernel_size=(3, 3), stride=(1, 1), padding=(1, 1), bias=False)\n",
       "      (bn1): BatchNorm2d(512, eps=1e-05, momentum=0.1, affine=True, track_running_stats=True)\n",
       "      (relu): ReLU(inplace)\n",
       "      (conv2): Conv2d(512, 512, kernel_size=(3, 3), stride=(1, 1), padding=(1, 1), bias=False)\n",
       "      (bn2): BatchNorm2d(512, eps=1e-05, momentum=0.1, affine=True, track_running_stats=True)\n",
       "    )\n",
       "  )\n",
       "  (avgpool): AdaptiveAvgPool2d(output_size=(1, 1))\n",
       "  (fc): Linear(in_features=512, out_features=1000, bias=True)\n",
       ")"
      ]
     },
     "execution_count": 12,
     "metadata": {},
     "output_type": "execute_result"
    }
   ],
   "source": [
    "model"
   ]
  },
  {
   "cell_type": "code",
   "execution_count": 13,
   "metadata": {},
   "outputs": [],
   "source": [
    "def all_frozen(model_params):\n",
    "    return all(not p.requires_grad for p in model_params)\n",
    "\n",
    "def all_trainable(model_params):\n",
    "    return all(p.requires_grad for p in model_params)\n",
    "\n",
    "def get_trainable(model_params):\n",
    "    return (p for p in model_params if p.requires_grad)\n",
    "\n",
    "def freeze_all(model_params):\n",
    "    for param in model_params:\n",
    "        param.requires_grad = False"
   ]
  },
  {
   "cell_type": "code",
   "execution_count": 14,
   "metadata": {},
   "outputs": [],
   "source": [
    "freeze_all(model.parameters())\n",
    "assert all_frozen(model.parameters())"
   ]
  },
  {
   "cell_type": "code",
   "execution_count": 15,
   "metadata": {},
   "outputs": [],
   "source": [
    "model.fc = nn.Linear(512, 2)\n",
    "\n"
   ]
  },
  {
   "cell_type": "code",
   "execution_count": null,
   "metadata": {},
   "outputs": [],
   "source": []
  },
  {
   "cell_type": "code",
   "execution_count": 16,
   "metadata": {},
   "outputs": [],
   "source": [
    "criterion = nn.CrossEntropyLoss()"
   ]
  },
  {
   "cell_type": "code",
   "execution_count": 17,
   "metadata": {},
   "outputs": [],
   "source": [
    "optimizer = torch.optim.Adam(\n",
    "    get_trainable(model.parameters()),\n",
    "    lr=0.001,\n",
    "    # momentum=0.9,\n",
    ")"
   ]
  },
  {
   "cell_type": "code",
   "execution_count": 18,
   "metadata": {},
   "outputs": [
    {
     "name": "stdout",
     "output_type": "stream",
     "text": [
      "Epoch 1/30\n",
      "  Train Loss: 0.8138710856437683\n",
      "  Train Acc:  0.38\n",
      "  Valid Loss: 0.7664822846651077\n",
      "  Valid Acc:  0.26666666666666666\n",
      "Epoch 2/30\n",
      "  Train Loss: 0.49564051628112793\n",
      "  Train Acc:  0.8\n",
      "  Valid Loss: 0.5768536359071732\n",
      "  Valid Acc:  0.7333333333333333\n",
      "Epoch 3/30\n",
      "  Train Loss: 0.42152318358421326\n",
      "  Train Acc:  0.82\n",
      "  Valid Loss: 0.5191781262556712\n",
      "  Valid Acc:  0.7\n",
      "Epoch 4/30\n",
      "  Train Loss: 0.3824525773525238\n",
      "  Train Acc:  0.82\n",
      "  Valid Loss: 0.5237697939078013\n",
      "  Valid Acc:  0.7\n",
      "Epoch 5/30\n",
      "  Train Loss: 0.4346945285797119\n",
      "  Train Acc:  0.82\n",
      "  Valid Loss: 0.5445933779080708\n",
      "  Valid Acc:  0.7\n",
      "Epoch 6/30\n",
      "  Train Loss: 0.49224549531936646\n",
      "  Train Acc:  0.82\n",
      "  Valid Loss: 0.5631237685680389\n",
      "  Valid Acc:  0.7\n",
      "Epoch 7/30\n",
      "  Train Loss: 0.5415816903114319\n",
      "  Train Acc:  0.82\n",
      "  Valid Loss: 0.5637196441491444\n",
      "  Valid Acc:  0.7\n",
      "Epoch 8/30\n",
      "  Train Loss: 0.48587116599082947\n",
      "  Train Acc:  0.82\n",
      "  Valid Loss: 0.5540393809477488\n",
      "  Valid Acc:  0.7\n",
      "Epoch 9/30\n",
      "  Train Loss: 0.4748750329017639\n",
      "  Train Acc:  0.82\n",
      "  Valid Loss: 0.5347168842951456\n",
      "  Valid Acc:  0.7\n",
      "Epoch 10/30\n",
      "  Train Loss: 0.442494660615921\n",
      "  Train Acc:  0.82\n",
      "  Valid Loss: 0.506288061539332\n",
      "  Valid Acc:  0.7\n",
      "Epoch 11/30\n",
      "  Train Loss: 0.396215558052063\n",
      "  Train Acc:  0.82\n",
      "  Valid Loss: 0.47331243455410005\n",
      "  Valid Acc:  0.7\n",
      "Epoch 12/30\n",
      "  Train Loss: 0.3842378556728363\n",
      "  Train Acc:  0.82\n",
      "  Valid Loss: 0.43697421352068583\n",
      "  Valid Acc:  0.7\n",
      "Epoch 13/30\n",
      "  Train Loss: 0.3648678958415985\n",
      "  Train Acc:  0.82\n",
      "  Valid Loss: 0.40171190748612084\n",
      "  Valid Acc:  0.7\n",
      "Epoch 14/30\n",
      "  Train Loss: 0.3395014703273773\n",
      "  Train Acc:  0.82\n",
      "  Valid Loss: 0.37625720898310344\n",
      "  Valid Acc:  0.8\n",
      "Epoch 15/30\n",
      "  Train Loss: 0.32718196511268616\n",
      "  Train Acc:  0.84\n",
      "  Valid Loss: 0.35666620632012686\n",
      "  Valid Acc:  0.9\n",
      "Epoch 16/30\n",
      "  Train Loss: 0.30055955052375793\n",
      "  Train Acc:  0.92\n",
      "  Valid Loss: 0.3415983403722445\n",
      "  Valid Acc:  0.9333333333333333\n",
      "Epoch 17/30\n",
      "  Train Loss: 0.33091259002685547\n",
      "  Train Acc:  0.9\n",
      "  Valid Loss: 0.3290052115917206\n",
      "  Valid Acc:  0.9333333333333333\n",
      "Epoch 18/30\n",
      "  Train Loss: 0.3313234746456146\n",
      "  Train Acc:  0.98\n",
      "  Valid Loss: 0.3177937010924021\n",
      "  Valid Acc:  0.9333333333333333\n",
      "Epoch 19/30\n",
      "  Train Loss: 0.3069221079349518\n",
      "  Train Acc:  0.94\n",
      "  Valid Loss: 0.3058253452181816\n",
      "  Valid Acc:  0.9333333333333333\n",
      "Epoch 20/30\n",
      "  Train Loss: 0.308277428150177\n",
      "  Train Acc:  0.96\n",
      "  Valid Loss: 0.29353699684143064\n",
      "  Valid Acc:  0.9333333333333333\n",
      "Epoch 21/30\n",
      "  Train Loss: 0.29649287462234497\n",
      "  Train Acc:  0.94\n",
      "  Valid Loss: 0.2851112087567647\n",
      "  Valid Acc:  0.9\n",
      "Epoch 22/30\n",
      "  Train Loss: 0.27449747920036316\n",
      "  Train Acc:  0.92\n",
      "  Valid Loss: 0.2830005496740341\n",
      "  Valid Acc:  0.9\n",
      "Epoch 23/30\n",
      "  Train Loss: 0.23921586573123932\n",
      "  Train Acc:  0.9\n",
      "  Valid Loss: 0.28288845817248026\n",
      "  Valid Acc:  0.9\n",
      "Epoch 24/30\n",
      "  Train Loss: 0.25007733702659607\n",
      "  Train Acc:  0.9\n",
      "  Valid Loss: 0.2854751964410146\n",
      "  Valid Acc:  0.9\n",
      "Epoch 25/30\n",
      "  Train Loss: 0.24431650340557098\n",
      "  Train Acc:  0.88\n",
      "  Valid Loss: 0.28964338401953377\n",
      "  Valid Acc:  0.9\n",
      "Epoch 26/30\n",
      "  Train Loss: 0.2564418315887451\n",
      "  Train Acc:  0.9\n",
      "  Valid Loss: 0.2878775437672933\n",
      "  Valid Acc:  0.9\n",
      "Epoch 27/30\n",
      "  Train Loss: 0.2762256860733032\n",
      "  Train Acc:  0.86\n",
      "  Valid Loss: 0.2873211711645126\n",
      "  Valid Acc:  0.9\n",
      "Epoch 28/30\n",
      "  Train Loss: 0.2420690506696701\n",
      "  Train Acc:  0.9\n",
      "  Valid Loss: 0.2801212966442108\n",
      "  Valid Acc:  0.9\n",
      "Epoch 29/30\n",
      "  Train Loss: 0.2299376130104065\n",
      "  Train Acc:  0.86\n",
      "  Valid Loss: 0.2725529472033183\n",
      "  Valid Acc:  0.9\n",
      "Epoch 30/30\n",
      "  Train Loss: 0.2385382503271103\n",
      "  Train Acc:  0.86\n",
      "  Valid Loss: 0.2598843604326248\n",
      "  Valid Acc:  0.9\n"
     ]
    }
   ],
   "source": [
    "N_EPOCHS = 30\n",
    "train_loss = []\n",
    "valid_loss = []\n",
    "for epoch in range(N_EPOCHS):\n",
    "    print(f\"Epoch {epoch+1}/{N_EPOCHS}\")\n",
    "    \n",
    "    # Train\n",
    "    model.train()  # IMPORTANT\n",
    "    \n",
    "    running_loss, correct = 0.0, 0\n",
    "    for X, y in train_dl:\n",
    "        \n",
    "        \n",
    "        optimizer.zero_grad()\n",
    "        y_ = model(X)\n",
    "        loss = criterion(y_, y)\n",
    "        loss.backward()\n",
    "        optimizer.step()\n",
    "        \n",
    "        # Statistics\n",
    "        #print(f\"    batch loss: {loss.item():0.3f}\")\n",
    "        _, y_label_ = torch.max(y_, 1)\n",
    "        correct += (y_label_ == y).sum().item()\n",
    "        running_loss += loss.item() * X.shape[0]\n",
    "    \n",
    "    print(f\"  Train Loss: {running_loss / len(train_dl.dataset)}\")\n",
    "    print(f\"  Train Acc:  {correct / len(train_dl.dataset)}\")\n",
    "    train_loss.append([epoch,running_loss / len(train_dl.dataset)])\n",
    "    \n",
    "    # Eval\n",
    "    model.eval()  # IMPORTANT\n",
    "    \n",
    "    running_loss, correct = 0.0, 0\n",
    "    with torch.no_grad():  # IMPORTANT\n",
    "        for X, y in test_dl:\n",
    "            \n",
    "                    \n",
    "            y_ = model(X)\n",
    "        \n",
    "            # Statistics\n",
    "            _, y_label_ = torch.max(y_, 1)\n",
    "            correct += (y_label_ == y).sum().item()\n",
    "            loss = criterion(y_, y)\n",
    "            running_loss += loss.item() * X.shape[0]\n",
    "    \n",
    "    print(f\"  Valid Loss: {running_loss / len(test_dl.dataset)}\")\n",
    "    print(f\"  Valid Acc:  {correct / len(test_dl.dataset)}\")\n",
    "    valid_loss.append([epoch,running_loss / len(train_dl.dataset)])"
   ]
  },
  {
   "cell_type": "code",
   "execution_count": 19,
   "metadata": {},
   "outputs": [
    {
     "name": "stdout",
     "output_type": "stream",
     "text": [
      "F1-score micro: 0.9\n",
      "F1-score macro: 0.8666666666666667\n",
      "F1-score weighted: 0.8933333333333333\n",
      "  Valid Loss: 0.2598842978477478\n",
      "  Valid Acc:  0.9\n",
      "tensor([0, 0, 0, 0, 0, 0, 0, 0, 0, 1, 1, 1, 1, 1, 1, 1, 1, 1, 1, 1, 1, 1, 1, 1,\n",
      "        1, 1, 1, 1, 1, 1])\n",
      "tensor([0, 0, 1, 1, 1, 0, 0, 0, 0, 1, 1, 1, 1, 1, 1, 1, 1, 1, 1, 1, 1, 1, 1, 1,\n",
      "        1, 1, 1, 1, 1, 1])\n"
     ]
    }
   ],
   "source": [
    "test_dl = DataLoader(test_ds, batch_size = len(test_ds), shuffle = False)\n",
    "with torch.no_grad():# IMPORTANT\n",
    "    running_loss, correct = 0.0, 0\n",
    "    for X, y in test_dl:\n",
    "            \n",
    "            y_ = model(X)\n",
    "        \n",
    "            # Statistics\n",
    "            _, y_label_ = torch.max(y_, 1)\n",
    "            correct += (y_label_ == y).sum().item()\n",
    "            loss = criterion(y_, y)\n",
    "            running_loss += loss.item() * X.shape[0]\n",
    "            \n",
    "    F1ScoreMicro = f1_score(y, y_label_, average=\"micro\")\n",
    "    F1ScoreMacro = f1_score(y, y_label_, average=\"macro\")\n",
    "    F1ScoreWeighted = f1_score(y, y_label_, average=\"weighted\")\n",
    "    print(f\"F1-score micro: {F1ScoreMicro}\")\n",
    "    print(f\"F1-score macro: {F1ScoreMacro}\")\n",
    "    print(f\"F1-score weighted: {F1ScoreWeighted}\")\n",
    "    print(f\"  Valid Loss: {running_loss / len(test_dl.dataset)}\")\n",
    "    print(f\"  Valid Acc:  {correct / len(test_dl.dataset)}\")\n",
    "    print(y)\n",
    "    print(y_label_)"
   ]
  },
  {
   "cell_type": "code",
   "execution_count": 20,
   "metadata": {},
   "outputs": [
    {
     "data": {
      "text/plain": [
       "[<matplotlib.lines.Line2D at 0x7f3df47187b8>,\n",
       " <matplotlib.lines.Line2D at 0x7f3df4718908>]"
      ]
     },
     "execution_count": 20,
     "metadata": {},
     "output_type": "execute_result"
    },
    {
     "data": {
      "image/png": "[encoded data removed]",
      "text/plain": [
       "<Figure size 432x288 with 1 Axes>"
      ]
     },
     "metadata": {},
     "output_type": "display_data"
    }
   ],
   "source": [
    "trl = np.asarray(train_loss)\n",
    "tsl = np.asarray(valid_loss)\n",
    "plt.plot(trl[:,0],trl[:,1],tsl[:,0],tsl[:,1])"
   ]
  },
  {
   "cell_type": "code",
   "execution_count": null,
   "metadata": {},
   "outputs": [],
   "source": []
  }
 ],
 "metadata": {
  "kernelspec": {
   "display_name": "Python 3",
   "language": "python",
   "name": "python3"
  },
  "language_info": {
   "codemirror_mode": {
    "name": "ipython",
    "version": 3
   },
   "file_extension": ".py",
   "mimetype": "text/x-python",
   "name": "python",
   "nbconvert_exporter": "python",
   "pygments_lexer": "ipython3",
   "version": "3.6.5"
  }
 },
 "nbformat": 4,
 "nbformat_minor": 2
}
